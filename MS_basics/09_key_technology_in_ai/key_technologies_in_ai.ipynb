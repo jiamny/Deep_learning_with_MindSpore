{
 "cells": [
  {
   "cell_type": "markdown",
   "metadata": {},
   "source": [
    "# AI中的关键技术\n",
    "\n",
    "本实验使用MindSpore介绍了AI框架中的关键技术，包括自动微分和反向传播算法。结合课程学习，通过本实验可以了解自动微分的基本实现过程和反向传播算法流程，并且掌握使用MindSpore深度学习框架完成这些操作。"
   ]
  },
  {
   "cell_type": "markdown",
   "metadata": {},
   "source": [
    "## 1、自动计算梯度\n",
    "\n",
    "神经网络的参数主要通过梯度下降来进行优化，需要计算导数,而手动求导非常繁琐而且很容易出错。实际上，梯度计算可以由计算机自动实现，大幅度提高开发效率，目前主流的深度学习框架都具有自动计算梯度的功能。\n",
    "\n",
    "自动计算梯度方法主要分为三类：**数值微分**、**符号微分**和**自动微分**。"
   ]
  },
  {
   "cell_type": "markdown",
   "metadata": {},
   "source": [
    "### 1.1 数值微分\n",
    "\n",
    "数值微分(Numerical Diferentiation)是用数值方法来计算函数$f(x)$的导数\n",
    "\n",
    "函数$f(x)$的点$x$的导数定义为:\n",
    "\n",
    "$$f^{'}(x)=\\lim_{\\Delta x \\rightarrow 0}\\frac{f(x+\\Delta x)-f(x)}{\\Delta x} \\tag{1}$$\n",
    "\n",
    "在实际应用，经常使用下面公式来计算梯度，可以减少截断误差。\n",
    "\n",
    "$$f^{'}(x)=\\lim_{\\Delta x \\rightarrow 0}\\frac{f(x+\\Delta x)-f(x-\\Delta x)}{2\\Delta x} \\tag{2}$$"
   ]
  },
  {
   "cell_type": "markdown",
   "metadata": {},
   "source": [
    "#### 1.1.1 数值微分实验\n",
    "\n",
    "使用数值微分，并使用$f^{'}(x)=\\lim_{\\Delta x \\rightarrow 0}\\frac{f(x+\\Delta x)-f(x)}{\\Delta x}$计算下面函数在$x=5$的一阶导数：\n",
    "\n",
    "$$f(x)=0.01x^{2}+0.1x \\tag{3}$$\n",
    "\n",
    "比较手动求导结果和数字计算结果，分析扰动$\\Delta x$对结果的影响，并绘制$f(x)$在$x=5$处的切点、切线。"
   ]
  },
  {
   "cell_type": "code",
   "execution_count": 3,
   "metadata": {},
   "outputs": [
    {
     "data": {
      "text/plain": [
       "(0.20000099999917254, 0.2)"
      ]
     },
     "execution_count": 3,
     "metadata": {},
     "output_type": "execute_result"
    },
    {
     "data": {
      "image/png": "[encoded data removed]",
      "text/plain": [
       "<Figure size 432x288 with 1 Axes>"
      ]
     },
     "metadata": {
      "needs_background": "light"
     },
     "output_type": "display_data"
    }
   ],
   "source": [
    "import matplotlib.pyplot as plt\n",
    "from mindspore import numpy as np\n",
    "\n",
    "# 原函数\n",
    "def function_1(x):\n",
    "    return 0.01*x*x+0.1*x\n",
    "\n",
    "# 原函数的导数\n",
    "def function_diff(x):\n",
    "    return 0.02*x+0.1\n",
    "\n",
    "# 数值微分\n",
    "def numerical_diff(f, x):\n",
    "    h = 1e-4   # h越小越精确\n",
    "    return (f(x+h)-f(x))/h\n",
    "\n",
    "# 绘制图像\n",
    "%matplotlib inline\n",
    "x = np.arange(-2.0, 20.0, 0.1)\n",
    "y = function_1(x)\n",
    "plt.figure()\n",
    "plt.xlabel(\"x\")\n",
    "plt.ylabel(\"f(x)\")\n",
    "plt.title(\"The Geometric Meaning of Derivatives\")\n",
    "plt.plot(x, y, label=\"f(x)\")\n",
    "plt.plot(x, 0.2*x-0.25, label=\"Tangent line\")\n",
    "plt.scatter(5, 0.75, color='r', label=\"Tangent point\")\n",
    "plt.legend()\n",
    "\n",
    "dx_5_num = numerical_diff(function_1, 5)\n",
    "dx_5_sym = function_diff(5)\n",
    "dx_5_num, dx_5_sym  # 数值求解的导数与导数真值近似相等"
   ]
  },
  {
   "cell_type": "markdown",
   "metadata": {},
   "source": [
    "#### 1.1.2 数值微分实验任务\n",
    "\n",
    "利用$f^{'}(x)=\\lim_{\\Delta x \\rightarrow 0}\\frac{f(x+\\Delta x)-f(x-\\Delta x)}{2\\Delta x}$计算使用数值微分计算$f(x)=0.01x^{2}+0.1x$在$x=5$的一阶导数。"
   ]
  },
  {
   "cell_type": "code",
   "execution_count": 2,
   "metadata": {},
   "outputs": [
    {
     "data": {
      "text/plain": [
       "(0.1999999999990898, 0.2)"
      ]
     },
     "execution_count": 2,
     "metadata": {},
     "output_type": "execute_result"
    }
   ],
   "source": [
    "from mindspore import numpy as np\n",
    "\n",
    "# 原函数\n",
    "def function_1(x):\n",
    "    return 0.01*x*x+0.1*x\n",
    "\n",
    "# 原函数的导数\n",
    "def function_diff(x):\n",
    "    return 0.02*x+0.1\n",
    "\n",
    "# 数值微分\n",
    "def numerical_diff(f, x):\n",
    "    h = 1e-4   # h越小越精确\n",
    "    return (f(x+h)-f(x-h))/(2*h)\n",
    "\n",
    "dx_5_num = numerical_diff(function_1, 5)\n",
    "dx_5_sym = function_diff(5)\n",
    "dx_5_num, dx_5_sym  # 数值求解的导数与导数真值近似相等"
   ]
  },
  {
   "cell_type": "markdown",
   "metadata": {},
   "source": [
    "### 1.2 符号微分\n",
    "\n",
    "符号微分(Symbolic Differentiation)是一种基于**符号计算**的自动求导方法，一般不需要代入具体的值。 符号计算的输入和输出都是数学表达式， 如Mathematica、Maple、matlab、Maxima 等现代代数系统工具软件中都有符号微分。"
   ]
  },
  {
   "cell_type": "markdown",
   "metadata": {},
   "source": [
    "### 1.3 自动微分\n",
    "\n",
    "自动微分(Automatic Differentiation，AD)可以对一个函数进行导数计算。自动微分的处理对象是一个函数或一段程序，它是介于数值微分和符号微分之间的方法，采用**有向图计算**来求解微分值。当前比较流行的自动微分实现方式有三种，分别为**基本表达式**、**操作符重载**和**源代码变换**。\n",
    "\n",
    "自动微分的计算过程：\n",
    "\n",
    "<div align=center>\n",
    "<img src=\"./images/自动微分计算流程图.png\" width = \"30%\" height = \"30%\"/>\n",
    "</div>"
   ]
  },
  {
   "cell_type": "markdown",
   "metadata": {},
   "source": [
    "#### 1.3.1 自动微分实验介绍\n",
    "\n",
    "以神经网络中常见的复合函数为例，采用**基本表达式**方法说明自动微分过程：\n",
    "\n",
    "$$f(x;w,b)=\\frac{1}{e^{-(wx+b)}+1} \\tag{4}$$\n",
    "\n",
    "> $x,w,b$均为标量"
   ]
  },
  {
   "cell_type": "markdown",
   "metadata": {},
   "source": [
    "+ **构建计算图**\n",
    "\n",
    "$$v_{0}=x \\\\ v_{1}=w \\ast v_{0} \\\\ v_{2}=v_{1}+b \\\\ v_{3}= -1 \\ast v_{2} \\\\ v_{4} = e^{v_{3}} \\\\ v_{5} = v_{4}+1 \\\\ v_{6}=\\frac{1}{v_{5}} \\tag{5}$$\n",
    "\n",
    "构建计算图如下：\n",
    "\n",
    "<div align=center>\n",
    "<img src = \"./images/普通感知机计算图.png\" width=\"90%\" height=\"90%\" />\n",
    "</div>\n",
    "\n",
    "+ **构建导数表**\n",
    "\n",
    "导数表：\n",
    "\n",
    "<div align=center>\n",
    "<img src = \"./images/普通感知机导数表.png\" width=\"50%\" height=\"50%\" />\n",
    "</div>\n",
    "\n",
    "+ **选择计算模式**\n",
    "\n",
    "按照计算导数的顺序可以分为：前向模式和反向模式\n",
    "\n",
    "**前向模式**：从变量出发，按计算图中计算方向相同方向来递归地计算导数。\n",
    "\n",
    "**反向模式**：从最终函数出发，按计算图中计算方向的相反方向来递归地计算导数。\n",
    "\n",
    "+ **计算过程**\n",
    "\n",
    "1. 先进行前向传播，计算出所有中间变量$v_{0} \\sim v_{6}$，并保存起来；\n",
    "\n",
    "2. 选择自动微分计算模式（前向\\后向），根据计算图和导数表计算每个节点的导数；\n",
    "\n",
    "3. 将计算图中变量相关路径上的所有导数连乘起来，即：\n",
    "\n",
    "$$\\frac{\\partial f(x;w,b)}{\\partial x}=\\frac{\\partial f(x;w,b)}{\\partial v_{6}}\\frac{\\partial v_{6}}{\\partial v_{5}}\\frac{\\partial v_{5}}{\\partial v_{4}}\\frac{\\partial v_{4}}{\\partial v_{3}}\\frac{\\partial v_{3}}{\\partial v_{2}}\\frac{\\partial v_{2}}{\\partial v_{1}}\\frac{\\partial v_{1}}{\\partial v_{0}}\\frac{\\partial v_{0}}{\\partial v_{x}} \\tag{6}$$\n",
    "\n",
    "$$\\frac{\\partial f(x;w,b)}{\\partial w}=\\frac{\\partial f(x;w,b)}{\\partial v_{6}}\\frac{\\partial v_{6}}{\\partial v_{5}}\\frac{\\partial v_{5}}{\\partial v_{4}}\\frac{\\partial v_{4}}{\\partial v_{3}}\\frac{\\partial v_{3}}{\\partial v_{2}}\\frac{\\partial v_{2}}{\\partial v_{1}}\\frac{\\partial v_{1}}{\\partial w} \\tag{7}$$\n",
    "\n",
    "$$\\frac{\\partial f(x;w,b)}{\\partial b}=\\frac{\\partial f(x;w,b)}{\\partial v_{6}}\\frac{\\partial v_{6}}{\\partial v_{5}}\\frac{\\partial v_{5}}{\\partial v_{4}}\\frac{\\partial v_{4}}{\\partial v_{3}}\\frac{\\partial v_{3}}{\\partial v_{2}}\\frac{\\partial v_{2}}{\\partial b} \\tag{8}$$\n",
    "\n",
    "> 如果参数有多个相关路径，那么将多个路径相乘的结果再相加即最终的导数。\n",
    "\n",
    "接下来正式进行实验"
   ]
  },
  {
   "cell_type": "markdown",
   "metadata": {},
   "source": [
    "#### 1.3.2 基本表达式实现自动微分\n",
    "\n",
    "先先从简单的$f=wx+b$开始，构建计算图如下：\n",
    "\n",
    "<div align=center>\n",
    "<img src=\"./images/线性运算计算图.png\"  width=\"50%\" height=\"50%\" />\n",
    "</div>\n",
    "\n",
    "由计算图可知，上面式子可以分解为乘法和加法基本运算，我们可以定义乘法和加法类"
   ]
  },
  {
   "cell_type": "code",
   "execution_count": 34,
   "metadata": {},
   "outputs": [],
   "source": [
    "# 加法运算\n",
    "class ADadd:\n",
    "\n",
    "    def __init__(self):\n",
    "        pass\n",
    "\n",
    "    def forward(self, x, y):\n",
    "        out = x + y\n",
    "        return out\n",
    "\n",
    "    def autoDiff(self, dout=1):\n",
    "        dx = dout * 1\n",
    "        dy = dout * 1\n",
    "        return dx, dy\n",
    "\n",
    "\n",
    "# 乘法运算\n",
    "class ADmul:\n",
    "\n",
    "    def __init__(self):\n",
    "        self.x = None\n",
    "        self.y = None\n",
    "\n",
    "    def forward(self, x, y):\n",
    "        self.x = x\n",
    "        self.y = y\n",
    "        out = x * y\n",
    "        return out\n",
    "\n",
    "    def autoDiff(self, dout=1):\n",
    "        dx = dout * self.y\n",
    "        dy = dout * self.x\n",
    "        return dx, dy"
   ]
  },
  {
   "cell_type": "markdown",
   "metadata": {},
   "source": [
    "##### 1.3.2.1 前向计算\n",
    "\n",
    "按照计算图前向传播方向计算并保存中间结果。"
   ]
  },
  {
   "cell_type": "code",
   "execution_count": 35,
   "metadata": {},
   "outputs": [
    {
     "name": "stdout",
     "output_type": "stream",
     "text": [
      "v2:  0\n"
     ]
    }
   ],
   "source": [
    "# 计算x=0,w=1,b=0时，x,w,b的偏导数\n",
    "# 创建加法和乘法对象\n",
    "add = ADadd()\n",
    "mul = ADmul()\n",
    "\n",
    "# 初始参数\n",
    "x = 0\n",
    "w = 1\n",
    "b = 0\n",
    "\n",
    "# 前向计算\n",
    "v0 = x\n",
    "v1 = mul.forward(v0, w)\n",
    "v2 = add.forward(v1, b)\n",
    "print(\"v2: \", v2)"
   ]
  },
  {
   "cell_type": "markdown",
   "metadata": {},
   "source": [
    "##### 1.3.2.2 正向自动微分\n",
    "\n",
    "按照计算图正向传播方向进行递归计算导数。"
   ]
  },
  {
   "cell_type": "markdown",
   "metadata": {},
   "source": [
    "+ 对$x$进行正向自动微分\n",
    "\n",
    "设$v_{0}=x,v_{1}=w \\ast v_{0},v_{2}=v_{1}+b$计算过程如下：\n",
    "\n",
    "$$\\frac{\\partial v_{0}}{\\partial x} =1  \\\\  \\frac{\\partial v_{1}}{\\partial x}=\\frac{\\partial v_{0}}{\\partial x}\\frac{\\partial v_{1}}{\\partial v_{0}} = 1 \\ast w  \\\\  \\frac{\\partial v_{2}}{\\partial x}=\\frac{\\partial v_{0}}{\\partial x}\\frac{\\partial v_{1}}{\\partial v_{0}}\\frac{\\partial v_{2}}{\\partial v_{1}} = 1 \\ast w \\ast 1 \\tag{9}$$"
   ]
  },
  {
   "cell_type": "code",
   "execution_count": 36,
   "metadata": {},
   "outputs": [
    {
     "name": "stdout",
     "output_type": "stream",
     "text": [
      "dx:  1\n"
     ]
    }
   ],
   "source": [
    "# 正向自动微分，x\n",
    "dv0 = 1\n",
    "dv1 = mul.autoDiff(dv0)[0]\n",
    "dv2 = add.autoDiff(dv1)[0]\n",
    "\n",
    "dx = dv2\n",
    "print(\"dx: \", dx)"
   ]
  },
  {
   "cell_type": "markdown",
   "metadata": {},
   "source": [
    "+ 对$w$进行正向自动微分\n",
    "\n",
    "设$v_{0}=x,v_{1}=w \\ast v_{0},v_{2}=v_{1}+b$计算过程如下：\n",
    "\n",
    "$$\\frac{\\partial v_{1}}{\\partial w}=v_{0}  \\\\  \\frac{\\partial v_{2}}{\\partial w}=\\frac{\\partial v_{1}}{\\partial w}\\frac{\\partial v_{2}}{\\partial v_{1}} = v_{0} \\ast 1 \\tag{10}$$"
   ]
  },
  {
   "cell_type": "code",
   "execution_count": 37,
   "metadata": {},
   "outputs": [
    {
     "name": "stdout",
     "output_type": "stream",
     "text": [
      "dw:  0\n"
     ]
    }
   ],
   "source": [
    "# 正向自动微分，w\n",
    "dv1 = mul.autoDiff()[1]\n",
    "dv2 = add.autoDiff(dv1)[0]\n",
    "\n",
    "dw = dv2\n",
    "print(\"dw: \", dw)"
   ]
  },
  {
   "cell_type": "markdown",
   "metadata": {},
   "source": [
    "+ 对$w$进行正向自动微分\n",
    "\n",
    "设$v_{0}=x,v_{1}=w \\ast v_{0},v_{2}=v_{1}+b$计算过程如下：\n",
    "\n",
    "$$\\frac{\\partial v_{2}}{\\partial b}=1 \\tag{11}$$"
   ]
  },
  {
   "cell_type": "code",
   "execution_count": 38,
   "metadata": {},
   "outputs": [
    {
     "name": "stdout",
     "output_type": "stream",
     "text": [
      "db:  1\n"
     ]
    }
   ],
   "source": [
    "# 正向自动微分，b\n",
    "dv2 = add.autoDiff()[1]\n",
    "\n",
    "db = dv2\n",
    "print(\"db: \", db)"
   ]
  },
  {
   "cell_type": "markdown",
   "metadata": {},
   "source": [
    "##### 1.3.2.3 反向自动微分\n",
    "\n",
    "按照计算图前向传播的反方向进行递归计算导数。我们可以观察上面的前向自动微分过程，当输入数量大于输出数量时，需要多次进行多次前向自动微分过程才能求得所有变量的微分。这种情况，特别是输出为一个标量时，用反向自动微分效果会更好。\n",
    "\n",
    "设$v_{0}=x,v_{1}=w \\ast v_{0},v_{2}=v_{1}+b$计算过程如下：\n",
    "\n",
    "$$\\frac{\\partial v_{2}}{\\partial v_{1}} =1 , \\frac{\\partial v_{2}}{\\partial b} =1 \\\\  \\frac{\\partial v_{2}}{\\partial v_{0}}=\\frac{\\partial v_{2}}{\\partial v_{1}} \\frac{\\partial v_{1}}{\\partial v_{0}} = 1 \\ast w , \\frac{\\partial v_{2}}{\\partial w} =\\frac{\\partial v_{2}}{\\partial v_{1}} \\frac{\\partial v_{1}}{\\partial w}=1 \\ast v_{0} \\\\  \\frac{\\partial v_{2}}{\\partial x}=\\frac{\\partial v_{2}}{\\partial v_{1}}\\frac{\\partial v_{1}}{\\partial v_{0}}\\frac{\\partial v_{0}}{\\partial x} = 1 \\ast w \\ast 1 \\tag{12}$$\n",
    "\n",
    "可以看到，进行一次反向计算就能够求出所有变量的微分。"
   ]
  },
  {
   "cell_type": "code",
   "execution_count": 39,
   "metadata": {},
   "outputs": [
    {
     "name": "stdout",
     "output_type": "stream",
     "text": [
      "dx:   1\n",
      "dw:   0\n",
      "db:   1\n"
     ]
    }
   ],
   "source": [
    "dv2v1, db = add.autoDiff()\n",
    "dv2v0, dw = mul.autoDiff(dv2v1)\n",
    "dx = dv2v0\n",
    "print(\"dx:  \", dx)\n",
    "print(\"dw:  \", dw)\n",
    "print(\"db:  \", db)"
   ]
  },
  {
   "cell_type": "markdown",
   "metadata": {},
   "source": [
    "#### 1.3.4 自动微分实验任务\n",
    "\n",
    "+ 1. 采用实现除法运算和指数运算$e^{x}$，命名为ADdiv和ADexp\n",
    "\n",
    "+ 2. 完成下面两个实验任务：\n",
    "\n",
    "    + （1）利用基本表达式方法编码实现$sigmoid(x)$函数在$x=0$处的导数；\n",
    "    + （2）若将$sigmoid(x)$当成一个基本操作，仿照基本操作的定义方式实现，命名为ADsigmoid\n",
    "\n",
    "$$sigmoid(x)=\\frac{1}{e^{-x}+1} \\\\ sigmoid^{'}(x)=sigmoid(x)(1-sigmoid(x))=-\\frac{e^{-x}}{(e^{-x}+1)^{2}} \\\\ sigmoid^{'}(0)= 0.5 \\tag{13}$$\n",
    "\n",
    "+ 3. 利用上面的所提到内容，选择合适的自动微分计算方式编码实现下面的复合函数$x=0,w=1,b=1$的导数计算：\n",
    "\n",
    "$$f(x;w,b)=\\frac{1}{e^{-(wx+b)}+1} \\tag{14}$$"
   ]
  },
  {
   "cell_type": "markdown",
   "metadata": {},
   "source": [
    "#### 1.3.5 自动微分实验任务参考解答\n",
    "\n",
    "+ 1. 实现ADdiv和ADexp"
   ]
  },
  {
   "cell_type": "code",
   "execution_count": 40,
   "metadata": {},
   "outputs": [],
   "source": [
    "# 除法操作\n",
    "class ADdiv:\n",
    "\n",
    "    def __init__(self):\n",
    "        self.x = None\n",
    "        self.y = None\n",
    "\n",
    "    def forward(self, x, y):\n",
    "        if y == 0:\n",
    "            print(\"分母不能为零！\")\n",
    "            return None\n",
    "        self.x = x\n",
    "        self.y = y\n",
    "        out = x/y\n",
    "        return out\n",
    "\n",
    "    def autoDiff(self, dout=1):\n",
    "        dx = dout/self.y\n",
    "        dy = -dout*self.x/self.y/self.y\n",
    "        return dx, dy\n",
    "\n",
    "\n",
    "# 指数操作\n",
    "class ADexp:\n",
    "\n",
    "    def __init__(self):\n",
    "        self.x = None\n",
    "\n",
    "    def forward(self, x):\n",
    "        self.x = x\n",
    "        out = np.exp(x)\n",
    "        return out\n",
    "\n",
    "    def autoDiff(self, dout=1):\n",
    "        dx = dout*np.exp(self.x)\n",
    "        return dx"
   ]
  },
  {
   "cell_type": "markdown",
   "metadata": {},
   "source": [
    "+ 2. （1）利用基本表达式方法编码实现sigmoid函数的求导。\n",
    "\n",
    "<div align=center>\n",
    "<img src=\"./images/sigmoid计算图.png\" width=\"100%\" height=\"100%\" />\n",
    "</div>\n",
    "\n",
    "$$\\frac{\\partial v_{4}}{\\partial v_{3}} = -\\frac{1}{v^{2}_{3}} \\tag{15}$$\n",
    "\n",
    "$$\\frac{\\partial v_{4}}{\\partial v_{2}} = \\frac{\\partial v_{4}}{\\partial v_{3}} \\frac{\\partial v_{3}}{\\partial v_{2}}=-\\frac{1}{v^{2}_{3}} \\ast 1 \\tag{16}$$\n",
    "\n",
    "$$\\frac{\\partial v_{4}}{\\partial v_{1}} = \\frac{\\partial v_{4}}{\\partial v_{3}} \\frac{\\partial v_{3}}{\\partial v_{2}} \\frac{\\partial v_{2}}{\\partial v_{1}}= -\\frac{1}{v_{3}^{2}} \\ast 1 \\ast e^{v_{1}} \\tag{17}$$\n",
    "\n",
    "$$\\frac{\\partial v_{4}}{\\partial v_{1}} = \\frac{\\partial v_{4}}{\\partial v_{3}} \\frac{\\partial v_{3}}{\\partial v_{2}} \\frac{\\partial v_{2}}{\\partial v_{1}} \\frac{\\partial v_{1}}{\\partial v_{0}}= -\\frac{1}{v_{3}^{2}} \\ast 1 \\ast e^{v_{1}} \\ast (-1) \\tag{18}$$\n",
    "\n",
    "$$\\frac{\\partial v_{4}}{\\partial x}= \\frac{\\partial v_{4}}{\\partial v_{3}} \\frac{\\partial v_{3}}{\\partial v_{2}} \\frac{\\partial v_{2}}{\\partial v_{1}} \\frac{\\partial v_{1}}{\\partial v_{0}}\\frac{\\partial v_{0}}{\\partial x} = -\\frac{1}{v_{3}^{2}} \\ast 1 \\ast e^{v_{1}} \\ast (-1) \\ast 1 \\tag{19}$$"
   ]
  },
  {
   "cell_type": "code",
   "execution_count": 41,
   "metadata": {},
   "outputs": [
    {
     "name": "stdout",
     "output_type": "stream",
     "text": [
      "v0:  0\n",
      "v1:  0\n",
      "v2:  1.0\n",
      "v3:  2.0\n",
      "sigmoid(0):  0.5\n",
      "dx:  0.25\n"
     ]
    }
   ],
   "source": [
    "import numpy as np\n",
    "\n",
    "# 创建基本运算对象\n",
    "add = ADadd()\n",
    "mul = ADmul()\n",
    "div = ADdiv()\n",
    "exp = ADexp()\n",
    "\n",
    "# 初始参数\n",
    "x = 0\n",
    "\n",
    "# 前向计算\n",
    "v0 = x\n",
    "v1 = mul.forward(v0, -1)\n",
    "v2 = exp.forward(v1)\n",
    "v3 = add.forward(v2, 1)\n",
    "v4 = div.forward(1, v3)\n",
    "\n",
    "print(\"v0: \", v0)\n",
    "print(\"v1: \", v1)\n",
    "print(\"v2: \", v2)\n",
    "print(\"v3: \", v3)\n",
    "print(\"sigmoid(0): \", v4)\n",
    "\n",
    "# 反向自动微分\n",
    "dv4v3 = div.autoDiff()[1]\n",
    "dv4v2 = add.autoDiff(dv4v3)[0]\n",
    "dv4v1 = exp.autoDiff(dv4v2)\n",
    "dv4v0 = mul.autoDiff(dv4v1)[0]\n",
    "dx = dv4v0\n",
    "print(\"dx: \", dx)"
   ]
  },
  {
   "cell_type": "markdown",
   "metadata": {},
   "source": [
    "+ 2. （2）若将$sigmoid(x)$当成一个基本操作，仿照基本操作的定义方式实现，命名为ADsigmoid。\n",
    "\n",
    "<div align=center>\n",
    "<img src=\"./images/简单sigmoid操作.png\" width = \"50%\" height = \"50%\" />\n",
    "</div>\n",
    "\n",
    "> 可以利用sigmoid函数的性质：$sigmoid^{'}(x)=sigmoid(x)(1-sigmoid(x))$来进行简单实现。"
   ]
  },
  {
   "cell_type": "code",
   "execution_count": 42,
   "metadata": {},
   "outputs": [],
   "source": [
    "# 实现sigmoid基本操作\n",
    "class ADsigmoid:\n",
    "\n",
    "    def __init__(self):\n",
    "        self.out = None\n",
    "\n",
    "    def forward(self, x):\n",
    "        out = 1/(1+np.exp(x))\n",
    "        self.out = out\n",
    "        return out\n",
    "\n",
    "    def autoDiff(self, dout=1):\n",
    "        dx = dout*(1-self.out)*self.out\n",
    "        return dx"
   ]
  },
  {
   "cell_type": "code",
   "execution_count": 43,
   "metadata": {},
   "outputs": [
    {
     "data": {
      "text/plain": [
       "0.25"
      ]
     },
     "execution_count": 43,
     "metadata": {},
     "output_type": "execute_result"
    }
   ],
   "source": [
    "# 验证x = 0时导数为0.25\n",
    "sigmoid = ADsigmoid()\n",
    "\n",
    "x = 0\n",
    "out = sigmoid.forward(x)\n",
    "\n",
    "dx = sigmoid.autoDiff()\n",
    "dx"
   ]
  },
  {
   "cell_type": "markdown",
   "metadata": {},
   "source": [
    "+ 利用上面的所提到内容，选择合适的自动微分计算方式编码实现下面的复合函数$x=0,w=1,b=1$的导数计算：\n",
    "\n",
    "$$f(x;w,b)=\\frac{1}{e^{-(wx+b)}+1} \\tag{20}$$\n",
    "\n",
    "<div align=center>\n",
    "<img src=\"./images/简单普通感知机计算图.png\" width = \"70%\" />\n",
    "</div>"
   ]
  },
  {
   "cell_type": "code",
   "execution_count": 44,
   "metadata": {},
   "outputs": [
    {
     "name": "stdout",
     "output_type": "stream",
     "text": [
      "v0:  0\n",
      "v1:  0\n",
      "v2:  0\n",
      "v3:  0.5\n",
      "dx:   0.25\n",
      "dw:   0.0\n",
      "db:   0.25\n"
     ]
    }
   ],
   "source": [
    "# 计算x=0,w=1,b=0时，x,w,b的偏导数\n",
    "# 创建基本操作对象\n",
    "add = ADadd()\n",
    "mul = ADmul()\n",
    "sigmoid = ADsigmoid()\n",
    "\n",
    "# 初始参数\n",
    "x = 0\n",
    "w = 1\n",
    "b = 0\n",
    "\n",
    "# 前向计算\n",
    "v0 = x\n",
    "v1 = mul.forward(v0, w)\n",
    "v2 = add.forward(v1, b)\n",
    "v3 = sigmoid.forward(v2)\n",
    "print(\"v0: \", v0)\n",
    "print(\"v1: \", v1)\n",
    "print(\"v2: \", v2)\n",
    "print(\"v3: \", v3)\n",
    "\n",
    "# 反向自动微分\n",
    "dv3v2 = sigmoid.autoDiff()\n",
    "dv2v1, db = add.autoDiff(dv3v2)\n",
    "dv2v0, dw = mul.autoDiff(dv2v1)\n",
    "dx = dv2v0\n",
    "print(\"dx:  \", dx)\n",
    "print(\"dw:  \", dw)\n",
    "print(\"db:  \", db)"
   ]
  },
  {
   "cell_type": "markdown",
   "metadata": {},
   "source": [
    "### 1.4 MindSpore实现自动微分\n",
    "\n",
    "自动微分能够计算可导函数在某点处的导数值，是反向传播算法的一般化。自动微分主要解决的问题是将一个复杂的数学运算分解为一系列简单的基本运算，该功能对用户屏蔽了大量的求导细节和过程，大大降低了框架的使用门槛。\n",
    "\n",
    "MindSpore使用`ops.GradOperation`计算一阶导数，`ops.GradOperation`属性如下：\n",
    "\n",
    "+ `get_all`：是否对输入参数进行求导，默认值为False。\n",
    "+ `get_by_list`：是否对权重参数进行求导，默认值为False。\n",
    "+ `sens_param`：是否对网络的输出值做缩放以改变最终梯度，默认值为False。\n",
    "\n",
    "本章使用MindSpore中的`ops.GradOperation`对函数 $f(x)=wx+b$ 求一阶导数。"
   ]
  },
  {
   "cell_type": "markdown",
   "metadata": {},
   "source": [
    "#### 1.4.1 对输入求一阶导\n",
    "\n",
    "对输入求导前需要先定义公式：\n",
    "\n",
    "$$f(x)=wx+b \\tag{21}$$\n",
    "\n",
    "下面示例代码是公式(21)的表达，由于MindSpore采用函数式编程，因此所有计算公式表达都采用函数进行表示。"
   ]
  },
  {
   "cell_type": "code",
   "execution_count": 45,
   "metadata": {},
   "outputs": [],
   "source": [
    "import numpy as np\n",
    "import mindspore.nn as nn\n",
    "from mindspore import Parameter, Tensor\n",
    "\n",
    "\n",
    "class Net(nn.Cell):\n",
    "    def __init__(self):\n",
    "        super(Net, self).__init__()\n",
    "        self.w = Parameter(np.array([6.0]), name='w')\n",
    "        self.b = Parameter(np.array([1.0]), name='b')\n",
    "\n",
    "    def construct(self, x):\n",
    "        f = self.w * x + self.b\n",
    "        return f"
   ]
  },
  {
   "cell_type": "markdown",
   "metadata": {},
   "source": [
    "然后定义求导类`GradNet`，类的`__init__`函数中定义需要求导的网络`self.net`和`ops.GradOperation`操作，类的`construct`函数中对`self.net`的输入进行求导。其对应MindSpore内部会产生如下公式(22)：\n",
    "\n",
    "$$f^{'}(x)=w \\tag{22}$$"
   ]
  },
  {
   "cell_type": "code",
   "execution_count": 46,
   "metadata": {},
   "outputs": [],
   "source": [
    "from mindspore import dtype as mstype\n",
    "import mindspore.ops as ops\n",
    "\n",
    "\n",
    "class GradNet(nn.Cell):\n",
    "    def __init__(self, net):\n",
    "        super(GradNet, self).__init__()\n",
    "        self.net = net\n",
    "        self.grad_op = ops.GradOperation()\n",
    "\n",
    "    def construct(self, x):\n",
    "        gradient_function = self.grad_op(self.net)\n",
    "        return gradient_function(x)"
   ]
  },
  {
   "cell_type": "markdown",
   "metadata": {},
   "source": [
    "最后定义权重参数为w，并对输入公式(21)中的输入参数x求一阶导数。从运行结果来看，公式(21)中的输入为6，即：\n",
    "\n",
    "$$f(x)=wx+b=6*x+1 \\tag{23}$$\n",
    "\n",
    "对上式进行求导，有：\n",
    "\n",
    "$$f^{'}(x)=w=6 \\tag{24}$$"
   ]
  },
  {
   "cell_type": "code",
   "execution_count": 47,
   "metadata": {},
   "outputs": [
    {
     "name": "stdout",
     "output_type": "stream",
     "text": [
      "[6.]\n"
     ]
    }
   ],
   "source": [
    "x = Tensor([100], dtype=mstype.float32)\n",
    "output = GradNet(Net())(x)\n",
    "\n",
    "print(output)"
   ]
  },
  {
   "cell_type": "markdown",
   "metadata": {},
   "source": [
    "MindSpore计算一阶导数方法`ops.GradOperation(get_all=False, get_by_list=False, sens_param=False)`，其中`get_all`为`False`时，只会对第一个输入求导，为`True`时，会对所有输入求导。"
   ]
  },
  {
   "cell_type": "markdown",
   "metadata": {},
   "source": [
    "#### 1.4.2 对权重求一阶导\n",
    "\n",
    "对权重参数求一阶导，需要将`ops.GradOperation`中的`get_by_list`设置为`True`。"
   ]
  },
  {
   "cell_type": "code",
   "execution_count": 48,
   "metadata": {},
   "outputs": [],
   "source": [
    "from mindspore import ParameterTuple\n",
    "\n",
    "\n",
    "class GradNet(nn.Cell):\n",
    "    def __init__(self, net):\n",
    "        super(GradNet, self).__init__()\n",
    "        self.net = net\n",
    "        self.params = ParameterTuple(net.trainable_params())\n",
    "        self.grad_op = ops.GradOperation(get_by_list=True)  # 设置对权重参数进行一阶求导\n",
    "\n",
    "    def construct(self, x):\n",
    "        gradient_function = self.grad_op(self.net, self.params)\n",
    "        return gradient_function(x)"
   ]
  },
  {
   "cell_type": "markdown",
   "metadata": {},
   "source": [
    "接下来，对函数进行求导："
   ]
  },
  {
   "cell_type": "code",
   "execution_count": 49,
   "metadata": {},
   "outputs": [
    {
     "name": "stdout",
     "output_type": "stream",
     "text": [
      "wgrad: [100.]\n",
      "bgrad: [1.]\n"
     ]
    }
   ],
   "source": [
    "# 对函数进行求导计算\n",
    "x = Tensor([100], dtype=mstype.float32)\n",
    "fx = GradNet(Net())(x)\n",
    "\n",
    "# 打印结果\n",
    "print(f\"wgrad: {fx[0]}\\nbgrad: {fx[1]}\")"
   ]
  },
  {
   "cell_type": "markdown",
   "metadata": {},
   "source": [
    "若某些权重不需要进行求导，则在定义求导网络时，相应的权重参数声明定义的时候，将其属性`requires_grad`需设置为`False`。"
   ]
  },
  {
   "cell_type": "code",
   "execution_count": 50,
   "metadata": {},
   "outputs": [
    {
     "name": "stdout",
     "output_type": "stream",
     "text": [
      "(Tensor(shape=[1], dtype=Float32, value= [5.00000000e+000]),)\n"
     ]
    }
   ],
   "source": [
    "class Net(nn.Cell):\n",
    "    def __init__(self):\n",
    "        super(Net, self).__init__()\n",
    "        self.w = Parameter(Tensor(np.array([6], np.float32)), name='w')\n",
    "        self.b = Parameter(\n",
    "            Tensor(np.array([1.0], np.float32)), name='b', requires_grad=False)\n",
    "\n",
    "    def construct(self, x):\n",
    "        out = x * self.w + self.b\n",
    "        return out\n",
    "\n",
    "\n",
    "class GradNet(nn.Cell):\n",
    "    def __init__(self, net):\n",
    "        super(GradNet, self).__init__()\n",
    "        self.net = net\n",
    "        self.params = ParameterTuple(net.trainable_params())\n",
    "        self.grad_op = ops.GradOperation(get_by_list=True)\n",
    "\n",
    "    def construct(self, x):\n",
    "        gradient_function = self.grad_op(self.net, self.params)\n",
    "        return gradient_function(x)\n",
    "\n",
    "\n",
    "# 构建求导网络\n",
    "x = Tensor([5], dtype=mstype.float32)\n",
    "fw = GradNet(Net())(x)\n",
    "\n",
    "print(fw)"
   ]
  },
  {
   "cell_type": "markdown",
   "metadata": {},
   "source": [
    "#### 1.4.3 梯度值缩放\n",
    "\n",
    "通过`sens_param`参数对网络的输出值做缩放以改变最终梯度。首先将`ops.GradOperation`中的`sens_param`设置为`True`，并确定缩放指数，其维度与输出维度保持一致。"
   ]
  },
  {
   "cell_type": "code",
   "execution_count": 51,
   "metadata": {},
   "outputs": [
    {
     "name": "stdout",
     "output_type": "stream",
     "text": [
      "[0.6]\n"
     ]
    }
   ],
   "source": [
    "class GradNet(nn.Cell):\n",
    "    def __init__(self, net):\n",
    "        super(GradNet, self).__init__()\n",
    "        self.net = net\n",
    "        # 求导操作\n",
    "        self.grad_op = ops.GradOperation(sens_param=True)\n",
    "        # 缩放指数\n",
    "        self.grad_wrt_output = Tensor([0.1], dtype=mstype.float32)\n",
    "\n",
    "    def construct(self, x):\n",
    "        gradient_function = self.grad_op(self.net)\n",
    "        return gradient_function(x, self.grad_wrt_output)\n",
    "\n",
    "\n",
    "x = Tensor([6], dtype=mstype.float32)\n",
    "output = GradNet(Net())(x)\n",
    "\n",
    "print(output)"
   ]
  },
  {
   "cell_type": "markdown",
   "metadata": {},
   "source": [
    "#### 1.4.4 停止计算梯度\n",
    "\n",
    "使用`ops.stop_gradient`可以停止计算梯度，示例如下："
   ]
  },
  {
   "cell_type": "code",
   "execution_count": 52,
   "metadata": {
    "scrolled": true
   },
   "outputs": [
    {
     "name": "stdout",
     "output_type": "stream",
     "text": [
      "wgrad: [0.]\n",
      "bgrad: [0.]\n"
     ]
    }
   ],
   "source": [
    "from mindspore.ops import stop_gradient\n",
    "\n",
    "\n",
    "class Net(nn.Cell):\n",
    "    def __init__(self):\n",
    "        super(Net, self).__init__()\n",
    "        self.w = Parameter(Tensor(np.array([6], np.float32)), name='w')\n",
    "        self.b = Parameter(Tensor(np.array([1.0], np.float32)), name='b')\n",
    "\n",
    "    def construct(self, x):\n",
    "        out = x * self.w + self.b\n",
    "        # 停止梯度更新，out对梯度计算无贡献\n",
    "        out = stop_gradient(out)\n",
    "        return out\n",
    "\n",
    "\n",
    "class GradNet(nn.Cell):\n",
    "    def __init__(self, net):\n",
    "        super(GradNet, self).__init__()\n",
    "        self.net = net\n",
    "        self.params = ParameterTuple(net.trainable_params())\n",
    "        self.grad_op = ops.GradOperation(get_by_list=True)\n",
    "\n",
    "    def construct(self, x):\n",
    "        gradient_function = self.grad_op(self.net, self.params)\n",
    "        return gradient_function(x)\n",
    "\n",
    "\n",
    "x = Tensor([100], dtype=mstype.float32)\n",
    "output = GradNet(Net())(x)\n",
    "\n",
    "print(f\"wgrad: {output[0]}\\nbgrad: {output[1]}\")"
   ]
  },
  {
   "cell_type": "markdown",
   "metadata": {},
   "source": [
    "## 2、误差反向传播算法\n",
    "\n",
    "误差反向传播(error BackPropagation，BP)是1986年由Rumelhart和McClelland为首的科学家提出的概念，是一种按照误差逆向传播算法训练的多层前馈神经网络，误差反向传播算法系统的解决了多层神经网络隐含层连接权学习问题，它是迄今最成功的神经网络学习算法。现实任务中使用神经网络时，一般会使用梯度下降法进行参数学习，常使用误差反向传播来高效地计算梯度。下面就以前馈神经网络为例，介绍误差反向传播算法。\n",
    "\n",
    "误差反向传播算法，在实际训练中的流程图：\n",
    "\n",
    "<div align=center>\n",
    "    <img src=\"./images/误差反向传播算法流程图.png\"  width=\"30%\" height=\"30%\" />\n",
    "</div>\n",
    "\n",
    "在实际训练中可以用下面的伪代码表示：\n",
    "\n",
    "<div align=center>\n",
    "    <img src=\"./images/BP伪代码.png\"  width=\"70%\" height=\"70%\" />\n",
    "</div>"
   ]
  },
  {
   "cell_type": "markdown",
   "metadata": {},
   "source": [
    "### 2.1 非线性拟合\n",
    "\n",
    "经过前面的学习我们知道，人工神经网络能够以任意精度逼近任意连续非线性函数，接下来我们将使用人工神经网络拟合非线性函数$y=5sin(x)+3$，以此来熟悉误差反向传播算法的流程。"
   ]
  },
  {
   "cell_type": "markdown",
   "metadata": {},
   "source": [
    "#### 2.1.1 处理数据集\n",
    "\n",
    "在本实验中，需要生成数据集并进行可视化，然后定义加载数据集的函数，用于训练中加载数据集。"
   ]
  },
  {
   "cell_type": "markdown",
   "metadata": {},
   "source": [
    "##### 2.1.1.1 生成数据集\n",
    "\n",
    "定义数据集生成函数`get_data` ，生成训练数据集和验证数据集。\n",
    "\n",
    "由于拟合的是线性数据，假定要拟合的目标函数为：$y=5sin(x)+3$，那么我们需要的训练数据集应随机分布于函数周边，这里采用了$y=5sin(x)+3+noise$的方式生成，其中noise为遵循标准正态分布规律的随机数值。"
   ]
  },
  {
   "cell_type": "code",
   "execution_count": 53,
   "metadata": {},
   "outputs": [],
   "source": [
    "import numpy as np\n",
    "\n",
    "\n",
    "def get_data(num, w=5.0, b=3.0):\n",
    "    for _ in range(num):\n",
    "        x = np.random.uniform(-10.0, 10.0)\n",
    "        noise = np.random.normal(0, 1)\n",
    "        y = np.sin(x) * w + b + noise\n",
    "        yield np.array([x]).astype(np.float32), np.array([y]).astype(np.float32)"
   ]
  },
  {
   "cell_type": "markdown",
   "metadata": {},
   "source": [
    "使用`get_data`生成100组验证数据，并可视化。"
   ]
  },
  {
   "cell_type": "code",
   "execution_count": 54,
   "metadata": {},
   "outputs": [
    {
     "data": {
      "image/png": "[encoded data removed]",
      "text/plain": [
       "<Figure size 432x288 with 1 Axes>"
      ]
     },
     "metadata": {
      "needs_background": "light"
     },
     "output_type": "display_data"
    }
   ],
   "source": [
    "import matplotlib.pyplot as plt\n",
    "\n",
    "\n",
    "train_data = list(get_data(100))\n",
    "x_target_label = np.arange(-10, 10, 0.1)\n",
    "y_target_label = np.sin(x_target_label) * 5.0 + 3.0\n",
    "x_eval_label, y_eval_label = zip(*train_data)\n",
    "\n",
    "x_eval = np.array(list(x_eval_label))\n",
    "y_eval = np.array(list(y_eval_label))\n",
    "\n",
    "plt.axis([-11, 11, -5, 15])\n",
    "plt.scatter(x_eval, y_eval, color=\"red\", s=5, label=\"eval data\")\n",
    "plt.plot(x_target_label, y_target_label, color=\"green\", label=\"target function\")\n",
    "plt.title(\"Eval data\")\n",
    "plt.legend()\n",
    "plt.show()"
   ]
  },
  {
   "cell_type": "markdown",
   "metadata": {},
   "source": [
    "##### 2.1.1.2 加载数据集\n",
    "\n",
    "加载`get_data`函数所产生的数据集到系统内存里面，并进行基本的数据处理操作。\n",
    "\n",
    "+ `ds.GeneratorDataset`：将生成的数据转换为MindSpore的数据集，并且将生成的数据的x，y值存入到`data`和`label`的数组中。\n",
    "+ `batch`：将`batch_size`个数据组合成一个batch。\n",
    "+ `repeat`：将数据集数量倍增。"
   ]
  },
  {
   "cell_type": "code",
   "execution_count": 55,
   "metadata": {},
   "outputs": [],
   "source": [
    "from mindspore import dataset as ds\n",
    "\n",
    "\n",
    "def create_dataset(num_data, batch_size=16, repeat_size=1):\n",
    "    input_data = ds.GeneratorDataset(list(get_data(num_data)), column_names=['data', 'label'])\n",
    "    input_data = input_data.batch(batch_size, drop_remainder=True)\n",
    "    input_data = input_data.repeat(repeat_size)\n",
    "    return input_data"
   ]
  },
  {
   "cell_type": "markdown",
   "metadata": {},
   "source": [
    "使用数据集增强函数生成训练数据，通过定义的`create_dataset`将生成的32000个数据增强为2000组shape为16x1的数据集。"
   ]
  },
  {
   "cell_type": "code",
   "execution_count": 56,
   "metadata": {},
   "outputs": [
    {
     "name": "stdout",
     "output_type": "stream",
     "text": [
      "The dataset size of ds_train: 2000\n",
      "dict_keys(['data', 'label'])\n",
      "The x label value shape: (16, 1)\n",
      "The y label value shape: (16, 1)\n"
     ]
    }
   ],
   "source": [
    "data_number = 32000\n",
    "batch_number = 16\n",
    "repeat_number = 1\n",
    "\n",
    "ds_train = create_dataset(data_number, batch_size=batch_number, repeat_size=repeat_number)\n",
    "print(\"The dataset size of ds_train:\", ds_train.get_dataset_size())\n",
    "step_size = ds_train.get_dataset_size()\n",
    "dict_datasets = next(ds_train.create_dict_iterator())\n",
    "\n",
    "print(dict_datasets.keys())\n",
    "print(\"The x label value shape:\", dict_datasets[\"data\"].shape)\n",
    "print(\"The y label value shape:\", dict_datasets[\"label\"].shape)"
   ]
  },
  {
   "cell_type": "markdown",
   "metadata": {},
   "source": [
    "#### 2.1.2 定义网络模型\n",
    "\n",
    "`mindspore.nn`类是构建所有网络的基类，也是网络的基本单元。当用户需要自定义网络时，可以继承`nn.Cell`类，并重写`__init__`方法和`construct`方法。\n",
    "\n",
    "`mindspore.ops`模块提供了基础算子的实现，`nn.Cell`模块实现了对基础算子的进一步封装，用户可以根据需要，灵活使用不同的算子。\n",
    "\n",
    "如下示例使用`nn.Cell`构建一个3隐含层全连接网络，用于后续自定义内容的示例片段代码。在MindSpore中使用`nn.Dense`生成单个数据输入，单个数据输出的非线性函数模型：\n",
    "\n",
    "$$y=5sin(x)+3 \\tag{25}$$\n",
    "\n",
    "并使用Normal算子随机初始化参数。"
   ]
  },
  {
   "cell_type": "code",
   "execution_count": 57,
   "metadata": {},
   "outputs": [],
   "source": [
    "from mindspore import nn\n",
    "from mindspore.common.initializer import Normal\n",
    "\n",
    "\n",
    "class NonlinearNet(nn.Cell):\n",
    "    def __init__(self):\n",
    "        super(NonlinearNet, self).__init__()\n",
    "        self.fc1 = nn.Dense(1, 100, Normal(), Normal())\n",
    "        self.fc2 = nn.Dense(100, 100, Normal(), Normal())\n",
    "        self.fc3 = nn.Dense(100, 1, Normal(), Normal())\n",
    "        self.sigmoid = nn.Sigmoid()\n",
    "\n",
    "    def construct(self, x):\n",
    "        x = self.fc1(x)\n",
    "        x = self.sigmoid(x)\n",
    "        x = self.fc2(x)\n",
    "        x = self.sigmoid(x)\n",
    "        x = self.fc2(x)\n",
    "        x = self.sigmoid(x)\n",
    "        fx = self.fc3(x)\n",
    "        return fx"
   ]
  },
  {
   "cell_type": "markdown",
   "metadata": {},
   "source": [
    "训练前预测结果"
   ]
  },
  {
   "cell_type": "code",
   "execution_count": 58,
   "metadata": {},
   "outputs": [
    {
     "data": {
      "image/png": "[encoded data removed]",
      "text/plain": [
       "<Figure size 432x288 with 1 Axes>"
      ]
     },
     "metadata": {
      "needs_background": "light"
     },
     "output_type": "display_data"
    }
   ],
   "source": [
    "from mindspore import Tensor\n",
    "\n",
    "\n",
    "net = NonlinearNet()  # 初始化非线性回归网络\n",
    "\n",
    "x_model_label = np.arange(-10, 10, 0.1).astype(np.float32)\n",
    "y_model_label = np.zeros_like(x_model_label)\n",
    "for i in range(len(x_model_label)):\n",
    "    y_model_label[i] = net(Tensor(np.expand_dims([x_model_label[i]], axis=0))).asnumpy()[0][0]\n",
    "\n",
    "plt.axis([-11, 11, -5, 15])\n",
    "plt.scatter(x_eval, y_eval, color=\"red\", s=5, label=\"eval data\")\n",
    "plt.plot(x_model_label, y_model_label, color=\"blue\", label=\"predict data\")\n",
    "plt.plot(x_target_label, y_target_label, color=\"green\", label=\"target data\")\n",
    "plt.title(\"untrained\")\n",
    "plt.legend()\n",
    "plt.show()"
   ]
  },
  {
   "cell_type": "markdown",
   "metadata": {},
   "source": [
    "#### 2.1.3 损失函数和优化器\n",
    "\n",
    "使用MSE损失函数和Adma优化器。"
   ]
  },
  {
   "cell_type": "code",
   "execution_count": 59,
   "metadata": {},
   "outputs": [],
   "source": [
    "from mindspore import Tensor, Parameter\n",
    "from mindspore import nn, ops\n",
    "from mindspore import dtype as mstype\n",
    "\n",
    "\n",
    "loss = nn.MSELoss()\n",
    "optimizer_adam = nn.Adam(net.trainable_params())"
   ]
  },
  {
   "cell_type": "markdown",
   "metadata": {},
   "source": [
    "#### 2.1.4 自定义训练流程\n",
    "\n",
    "`mindspore.Model`提供了`train`和`eval`的接口方便用户在训练过程中使用，但此接口无法适用于所有场景，比如多数据多标签场景，在这些场景下用户需自行定义训练过程。\n",
    "\n",
    "本节主要使用线性回归的例子来简单介绍自定义训练流程。首先定义损失网络，将前向网络与损失函数连接起来；然后定义训练流程，训练流程一般继承`nn.TrainOneStepCell`，`nn.TrainOneStepCell`封装了损失网络和优化器，用来实现反向传播网络以更新权重参数。\n",
    "\n",
    "##### 定义损失网络\n",
    "\n",
    "定义损失网络`MyWithLossCell`，将前向网络与损失函数连接起来。"
   ]
  },
  {
   "cell_type": "code",
   "execution_count": 60,
   "metadata": {},
   "outputs": [],
   "source": [
    "class MyWithLossCell(nn.Cell):\n",
    "    \"\"\"定义损失网络\"\"\"\n",
    "\n",
    "    def __init__(self, backbone, loss_fn):\n",
    "        \"\"\"实例化时传入前向网络和损失函数作为参数\"\"\"\n",
    "        super(MyWithLossCell, self).__init__(auto_prefix=False)\n",
    "        self.backbone = backbone\n",
    "        self.loss_fn = loss_fn\n",
    "\n",
    "    def construct(self, data, label):\n",
    "        \"\"\"连接前向网络和损失函数\"\"\"\n",
    "        out = self.backbone(data)\n",
    "        return self.loss_fn(out, label)\n",
    "\n",
    "    def backbone_network(self):\n",
    "        \"\"\"要封装的骨干网络\"\"\"\n",
    "        return self.backbone"
   ]
  },
  {
   "cell_type": "markdown",
   "metadata": {},
   "source": [
    "#### 2.1.5 定义训练流程\n",
    "\n",
    "定义训练流程`MyTrainStep`，该类继承`nn.TrainOneStepCell`，`nn.TrainOneStepCell`封装了损失网络和优化器，在执行训练时通过`ops.GradOperation`算子来进行梯度的获取，通过优化器来实现权重的更新。"
   ]
  },
  {
   "cell_type": "code",
   "execution_count": 61,
   "metadata": {},
   "outputs": [],
   "source": [
    "class MyTrainStep(nn.TrainOneStepCell):\n",
    "    \"\"\"定义训练流程\"\"\"\n",
    "\n",
    "    def __init__(self, network, optimizer):\n",
    "        \"\"\"参数初始化\"\"\"\n",
    "        super(MyTrainStep, self).__init__(network, optimizer)\n",
    "        self.grad = ops.GradOperation(get_by_list=True)\n",
    "\n",
    "    def construct(self, data, label):\n",
    "        \"\"\"构建训练过程\"\"\"\n",
    "        weights = self.weights\n",
    "        loss = self.network(data, label)\n",
    "        grads = self.grad(self.network, weights)(data, label)\n",
    "        return loss, self.optimizer(grads)"
   ]
  },
  {
   "cell_type": "markdown",
   "metadata": {},
   "source": [
    "下面定义绘图函数`plot_model_and_datasets`来绘制测试数据、目标函数和网络模型拟合函数，并查看损失值。"
   ]
  },
  {
   "cell_type": "code",
   "execution_count": 65,
   "metadata": {},
   "outputs": [],
   "source": [
    "from IPython import display\n",
    "import matplotlib.pyplot as plt\n",
    "import time\n",
    "\n",
    "\n",
    "def plot_model_and_datasets(net, data, loss):\n",
    "    data_len = len(data)\n",
    "    x1, y1 = zip(*data)\n",
    "    x_eval = np.array(list(x1[i][0] for i in range(len(x1))))\n",
    "    y_eval = np.array(list(y1[i][0] for i in range(len(y1))))\n",
    "    x_target = np.arange(-10, 10, 0.1)\n",
    "    y_target = np.sin(x_target) * 5 + 3\n",
    "    x_predict = x_eval\n",
    "    y_predict = np.zeros(data_len)\n",
    "    for j in range(data_len):\n",
    "        y_predict[j] = net(Tensor(np.expand_dims(x1[j], axis=0))).asnumpy()[0]\n",
    "\n",
    "    plt.axis([-11, 11, -5, 15])\n",
    "    plt.scatter(x_eval, y_eval, color=\"red\", s=5, label=\"eval data\")  # 原始数据\n",
    "    plt.scatter(x_predict, y_predict, color=\"blue\", s=5, label=\"predict data\")  # 预测数据\n",
    "    plt.plot(x_target, y_target, color=\"green\", label=\"target data\")  # 目标函数\n",
    "    plt.title(f\"Loss:{loss}\")  # 打印损失值\n",
    "    plt.legend()\n",
    "    plt.show()\n",
    "    time.sleep(1)\n",
    "    display.clear_output(wait=True)"
   ]
  },
  {
   "cell_type": "markdown",
   "metadata": {},
   "source": [
    "#### 2.1.6 执行训练\n",
    "\n",
    "使用训练数据`ds_train`对训练网络`train_net`进行训练，并可视化训练过程。"
   ]
  },
  {
   "cell_type": "code",
   "execution_count": 66,
   "metadata": {},
   "outputs": [
    {
     "name": "stdout",
     "output_type": "stream",
     "text": [
      "Epoch:10,\t loss:0.42113\n"
     ]
    },
    {
     "data": {
      "image/png": "[encoded data removed]",
      "text/plain": [
       "<Figure size 432x288 with 1 Axes>"
      ]
     },
     "metadata": {
      "needs_background": "light"
     },
     "output_type": "display_data"
    }
   ],
   "source": [
    "# 执行训练\n",
    "loss_func = loss  # 损失函数\n",
    "opt = optimizer_adam # 优化器\n",
    "net_with_criterion = MyWithLossCell(net, loss_func)  # 构建损失网络\n",
    "train_net = MyTrainStep(net_with_criterion, opt)  # 构建训练网络\n",
    "epoch = 10 # 设置训练轮数\n",
    "\n",
    "for n in range(epoch):\n",
    "    for data in ds_train.create_dict_iterator():\n",
    "        train_net(data['data'], data['label'])  # 执行训练，并更新权重\n",
    "        train_loss = net_with_criterion(data['data'], data['label'])  # 计算损失值\n",
    "    print(\"Epoch:{epoch_num},\\t loss:{loss}\".format(epoch_num=n+1, loss=train_loss))\n",
    "    plot_model_and_datasets(net_with_criterion.backbone_network(), train_data, train_loss)"
   ]
  },
  {
   "cell_type": "markdown",
   "metadata": {},
   "source": [
    "观察上面曲线的变化，如果效果不理想，可以重复执行上面的代码，继续训练。"
   ]
  }
 ],
 "metadata": {
  "kernelspec": {
   "display_name": "Python 3",
   "language": "python",
   "name": "python3"
  },
  "language_info": {
   "codemirror_mode": {
    "name": "ipython",
    "version": 3
   },
   "file_extension": ".py",
   "mimetype": "text/x-python",
   "name": "python",
   "nbconvert_exporter": "python",
   "pygments_lexer": "ipython3",
   "version": "3.7.5"
  },
  "latex_envs": {
   "LaTeX_envs_menu_present": true,
   "autoclose": false,
   "autocomplete": true,
   "bibliofile": "biblio.bib",
   "cite_by": "apalike",
   "current_citInitial": 1,
   "eqLabelWithNumbers": true,
   "eqNumInitial": 1,
   "hotkeys": {
    "equation": "Ctrl-E",
    "itemize": "Ctrl-I"
   },
   "labels_anchors": false,
   "latex_user_defs": false,
   "report_style_numbering": false,
   "user_envs_cfg": false
  },
  "toc": {
   "base_numbering": 1,
   "nav_menu": {},
   "number_sections": false,
   "sideBar": true,
   "skip_h1_title": false,
   "title_cell": "Table of Contents",
   "title_sidebar": "Contents",
   "toc_cell": false,
   "toc_position": {
    "height": "calc(100% - 180px)",
    "left": "10px",
    "top": "150px",
    "width": "324.99px"
   },
   "toc_section_display": true,
   "toc_window_display": true
  },
  "varInspector": {
   "cols": {
    "lenName": 16,
    "lenType": 16,
    "lenVar": 40
   },
   "kernels_config": {
    "python": {
     "delete_cmd_postfix": "",
     "delete_cmd_prefix": "del ",
     "library": "var_list.py",
     "varRefreshCmd": "print(var_dic_list())"
    },
    "r": {
     "delete_cmd_postfix": ") ",
     "delete_cmd_prefix": "rm(",
     "library": "var_list.r",
     "varRefreshCmd": "cat(var_dic_list()) "
    }
   },
   "types_to_exclude": [
    "module",
    "function",
    "builtin_function_or_method",
    "instance",
    "_Feature"
   ],
   "window_display": false
  },
  "vscode": {
   "interpreter": {
    "hash": "1833749fb8f72c31047ef76df24c54f7b06bba494d880ba7c5c6e98e1db6b70e"
   }
  }
 },
 "nbformat": 4,
 "nbformat_minor": 4
}
