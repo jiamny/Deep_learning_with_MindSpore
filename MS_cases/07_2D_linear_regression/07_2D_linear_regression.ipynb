{
 "cells": [
  {
   "cell_type": "markdown",
   "metadata": {},
   "source": [
    "## 基于MindSpore实现二维线性回归"
   ]
  },
  {
   "cell_type": "markdown",
   "metadata": {},
   "source": [
    "本实验将实现基于MindSpore的二维线性回归，包括人造数据集、模型构建、模型预测。"
   ]
  },
  {
   "cell_type": "markdown",
   "metadata": {},
   "source": [
    "### 1、实验目的\n",
    "- 掌握如何使用MindSpore实现二维线性回归模型。\n",
    "- 了解如何使用MindSpore的Adam优化器和MSE损失函数\n",
    "- 了解基于MindSpore的模型训练和模型预测"
   ]
  },
  {
   "cell_type": "markdown",
   "metadata": {},
   "source": [
    "### 2、整体模型介绍\n",
    "- 二维线性回归原理\n",
    "\n",
    "在机器学习领域，线性回归模型记为：\n",
    "$$y=w_0x_0+w_1x_1+\\cdots+w_nx_n+b=[w_0 w_1 w_2 \\cdots w_n][x_0 x_1 x_2 \\cdots x_n]^T+b$$\n",
    "可以统一形式为：\n",
    "$$y=\\sum_{i=0}^{n}w_ix_i+b=w^Tx+b$$\n",
    "\n",
    "\n",
    "并且我们定义损失函数来度量模型一次预测的好坏，即预测值$\\widehat y$和真实值y的误差，线性损失函数一般取$L=\\frac{1}{2}(y-\\widehat y)^2$，平方损失函数的几何意义是欧氏距离。\n",
    "\n",
    "之后我们便可进行模型训练，采用梯度下降方法求模型参数w，使损失函数最小。\n",
    "\n",
    "梯度下降法顺着当前点梯度反方向，按规定步长$\\alpha$进行迭代搜索，对第i个模型参数进行如下更新：\n",
    "$$w_{i+1}=w_i-\\alpha \\frac{\\partial L(w)}{\\partial (w_i)}$$\n",
    "因为\n",
    "$$\\frac{\\partial L(w)}{\\partial (w_i)}=-\\sum_{j=0}^{m}[y^{(j)}-\\sum_{i=0}^{n}w_i x_i^{(j)}-b]*x_i^{(j)}$$\n",
    "所以\n",
    "$$w_{i+1}=w_i+\\alpha [\\sum_{j=0}^{m}(y^{(j)}-\\sum_{i=0}^{n}w_i x_i^{(j)}-b)*x_i^{(j)}]$$\n",
    "对每个模型参数迭代训练直到收敛即可。因此二维线性回归的自变量为两个，模型便为：\n",
    "$$y=w_0x_0+w_1x_1+b=w^Tx+b$$"
   ]
  },
  {
   "cell_type": "markdown",
   "metadata": {},
   "source": [
    "因此我们需要定义一个模型Net实现二维线性回归功能。<br>\n",
    "可以调用MindSpore的nn.MSELoss计算预测值和目标值之间的均方误差。<br>\n",
    "调用MindSpore的nn.Adam计算最优参数。"
   ]
  },
  {
   "cell_type": "markdown",
   "metadata": {},
   "source": [
    "### 3 实验环境\n",
    "在动手进行实践之前，需要注意以下几点：\n",
    "* 确保实验环境正确安装，包括安装MindSpore。安装过程：首先登录[MindSpore官网安装页面](https://www.mindspore.cn/install)，根据安装指南下载安装包及查询相关文档。同时，官网环境安装也可以按下表说明找到对应环境搭建文档链接，根据环境搭建手册配置对应的实验环境。\n",
    "* 推荐使用交互式的计算环境Jupyter Notebook，其交互性强，易于可视化，适合频繁修改的数据分析实验环境。\n",
    "* 实验也可以在华为云一站式的AI开发平台ModelArts上完成。\n",
    "* 推荐实验环境：MindSpore版本=2.0；Python环境=3.7\n",
    "\n",
    "\n",
    "|  硬件平台 |  操作系统  | 软件环境 | 开发环境 | 环境搭建链接 |\n",
    "| :-----:| :----: | :----: |:----:   |:----:   |\n",
    "| CPU | Windows-x64 | MindSpore2.0 Python3.7.5 | JupyterNotebook |[MindSpore环境搭建实验手册第二章2.1节和第三章3.1节](./MindSpore环境搭建实验手册.docx)|\n",
    "| GPU CUDA 10.1|Linux-x86_64| MindSpore2.0 Python3.7.5 | JupyterNotebook |[MindSpore环境搭建实验手册第二章2.2节和第三章3.1节](./MindSpore环境搭建实验手册.docx)|\n",
    "| Ascend 910  | Linux-x86_64| MindSpore2.0 Python3.7.5 | JupyterNotebook |[MindSpore环境搭建实验手册第四章](./MindSpore环境搭建实验手册.docx)|\n"
   ]
  },
  {
   "cell_type": "markdown",
   "metadata": {},
   "source": [
    "### 4、数据处理\n",
    "#### 4.1 数据准备\n",
    "为了简单起见，我们将根据带有噪声的线性模型构造一个人造数据集。任务是使用这个有限样本的数据集来恢复这个模型的参数。我们需要生成一个包含1000个样本的数据集，每个样本包含从标准正态分布中采样的2个特征。 合成的数据集是一个矩阵$X∈R^{(1000×2)}$。我们使用线性模型参数$w =[2,-3.4]^T$、b=3.2和噪声项$\\epsilon$生成数据集及其标签：\n",
    "$y=Xw+b+\\epsilon=w_0x_0+w_1x_1+b+\\epsilon$\n",
    "\n",
    "$\\epsilon$可以视为模型预测和标签之间的观测误差，我们假设ϵ服从均值为0、标准差为0.01的正态分布。\n"
   ]
  },
  {
   "cell_type": "markdown",
   "metadata": {},
   "source": [
    "random库实现了各种分布的伪随机数生成器；dtype是MindSpore数据类型的对象；mindspore.ops提供对神经网络层的各种操作；pyplot是常用的绘图模块，能很方便让用户绘制 2D 图表；mindspore中的Tensor是张量，可放在gpu上加速。"
   ]
  },
  {
   "cell_type": "code",
   "execution_count": 1,
   "metadata": {
    "origin_pos": 2,
    "tab": [
     "pytorch"
    ]
   },
   "outputs": [],
   "source": [
    "import random\n",
    "import numpy as np\n",
    "import mindspore\n",
    "from mindspore import dtype as mstype\n",
    "import mindspore.ops as ops\n",
    "from matplotlib import pyplot as plt\n",
    "import sys\n",
    "sys.path.append('..')"
   ]
  },
  {
   "cell_type": "code",
   "execution_count": 2,
   "metadata": {
    "origin_pos": 7,
    "tab": [
     "pytorch"
    ]
   },
   "outputs": [
    {
     "name": "stdout",
     "output_type": "stream",
     "text": [
      "(1000, 2)\n"
     ]
    }
   ],
   "source": [
    "def synthetic_data(w, b, num_examples):  \n",
    "    print((num_examples, len(w)))\n",
    "    # 生成X\n",
    "    X = np.random.normal(0, 1, (num_examples, len(w))).astype(np.float32)\n",
    "    # y = Xw + b\n",
    "    y = np.matmul(X, w) + b \n",
    "    # y = Xw + b + 噪声。\n",
    "    y += np.random.normal(0, 0.01, len(y)).astype(np.float32)          \n",
    "    return X, y.reshape((-1, 1))\n",
    "\n",
    "mindspore.set_seed(1)\n",
    "true_w = np.array([2, -3.4]).astype(np.float32)\n",
    "true_b = np.float32(4.2)\n",
    "# 人造数据\n",
    "features, labels = synthetic_data(true_w, true_b, 1000)"
   ]
  },
  {
   "cell_type": "markdown",
   "metadata": {},
   "source": [
    "#### 4.2 数据加载\n",
    "数据features中的每一行都包含一个二维数据样本，真实值labels中的每一行都包含一维标签值（一个标量）"
   ]
  },
  {
   "cell_type": "code",
   "execution_count": 3,
   "metadata": {
    "origin_pos": 9,
    "tab": [
     "pytorch"
    ]
   },
   "outputs": [
    {
     "name": "stdout",
     "output_type": "stream",
     "text": [
      "features: [[ 1.6243454  -0.6117564 ]\n",
      " [-0.5281718  -1.0729686 ]\n",
      " [ 0.86540765 -2.3015387 ]\n",
      " [ 1.7448118  -0.7612069 ]] \n",
      "label: [[ 9.533557]\n",
      " [ 6.794138]\n",
      " [13.751566]\n",
      " [10.271619]]\n"
     ]
    }
   ],
   "source": [
    "print('features:', features[0:4],'\\nlabel:', labels[0:4])"
   ]
  },
  {
   "cell_type": "code",
   "execution_count": 4,
   "metadata": {
    "origin_pos": 11,
    "tab": [
     "pytorch"
    ]
   },
   "outputs": [
    {
     "data": {
      "image/png": "[encoded data removed]",
      "text/plain": [
       "<Figure size 640x480 with 1 Axes>"
      ]
     },
     "metadata": {},
     "output_type": "display_data"
    }
   ],
   "source": [
    "# 画出第二个特征与真实值的散点图\n",
    "plt.scatter(features[:, (1)], labels, 1); \n",
    "plt.show()"
   ]
  },
  {
   "cell_type": "markdown",
   "metadata": {},
   "source": [
    "使用MindSpore的GeneratorDataset创建可迭代数据。<br>\n",
    "dataset模块提供了加载和处理数据集的API；numpy提供了一系列类NumPy接口。"
   ]
  },
  {
   "cell_type": "code",
   "execution_count": 5,
   "metadata": {
    "origin_pos": 16,
    "tab": [
     "pytorch"
    ]
   },
   "outputs": [],
   "source": [
    "from mindspore import dataset as ds  \n",
    "\n",
    "class DatasetGenerator:\n",
    "    def __init__(self):\n",
    "        self.data = features\n",
    "        self.label = labels\n",
    "\n",
    "    def __getitem__(self, index):\n",
    "        return self.data[index], self.label[index]\n",
    "\n",
    "    def __len__(self):\n",
    "        return len(self.data)\n",
    "        \n",
    "batch_size = 10\n",
    "dataset_generator = DatasetGenerator()\n",
    "dataset = ds.GeneratorDataset(dataset_generator, [\"data\", \"label\"], shuffle=True)\n",
    "# 将数据集中连续10条数据合并为一个批处理数据\n",
    "dataset = dataset.batch(batch_size)                "
   ]
  },
  {
   "cell_type": "markdown",
   "metadata": {},
   "source": [
    "### 5、模型构建"
   ]
  },
  {
   "cell_type": "markdown",
   "metadata": {},
   "source": [
    "模型构建分为定义实现二维线性回归功能的Net、用于计算预测值与标签值之间的均方误差MSELoss、Adam优化器。\n",
    "- 定义模型Net\n",
    "\n",
    "Net输入为X样本，计算出预测值$\\widehat y$并返回。<br>\n",
    "mindspore.nn用于构建神经网络中的预定义构建块或计算单元；Parameter 是 Tensor 的子类，当它们被绑定为Cell的属性时，会自动添加到其参数列表中，并且可以通过Cell的某些方法获取；mindspore.common.initializer用于初始化神经元参数。"
   ]
  },
  {
   "cell_type": "code",
   "execution_count": 6,
   "metadata": {},
   "outputs": [],
   "source": [
    "import mindspore.nn as nn\n",
    "from mindspore import Parameter\n",
    "from mindspore.common.initializer import initializer, Zero, Normal\n",
    "\n",
    "\n",
    "def linreg(x, w, b):\n",
    "    # y = Xw+b\n",
    "    return ops.matmul(x, w) + b    \n",
    "\n",
    "\n",
    "class Net(nn.Cell):\n",
    "    def __init__(self):\n",
    "        super().__init__()\n",
    "        self.w = Parameter(initializer(Normal(0.01, 0), (2, 1), mstype.float32))\n",
    "        self.b = Parameter(initializer(Zero(), 1, mstype.float32))\n",
    "        \n",
    "    def construct(self, x):\n",
    "        # y_hat = Xw+b\n",
    "        y_hat = linreg(x, self.w, self.b)  \n",
    "        return y_hat\n",
    "    \n",
    "    \n",
    "# Net用于实现二维线性回归\n",
    "net = Net()"
   ]
  },
  {
   "cell_type": "markdown",
   "metadata": {},
   "source": [
    "- 使用MSE损失函数和Adam优化器"
   ]
  },
  {
   "cell_type": "code",
   "execution_count": 7,
   "metadata": {},
   "outputs": [],
   "source": [
    "# 训练的eopch为3\n",
    "num_epochs = 3\n",
    "# 学习率为0.03\n",
    "lr = 0.03\n",
    "# Adam优化器\n",
    "optim = nn.Adam(net.trainable_params(), learning_rate=lr)          \n",
    "# 计算预测值与标签值之间的均方误差\n",
    "loss = nn.MSELoss()   "
   ]
  },
  {
   "cell_type": "markdown",
   "metadata": {},
   "source": [
    "### 6、模型训练\n",
    "Model是模型训练与推理的高阶接口，调用Model.train方法，传入数据集即可完成模型训练，其中LossMonitor()会监控训练的损失，并将epoch、step、loss信息打印出来，若loss变为NAN或INF，则会终止训练。"
   ]
  },
  {
   "cell_type": "code",
   "execution_count": 8,
   "metadata": {},
   "outputs": [],
   "source": [
    "from mindspore.train import Model                                       \n",
    "from mindspore.train import LossMonitor "
   ]
  },
  {
   "cell_type": "code",
   "execution_count": 9,
   "metadata": {},
   "outputs": [
    {
     "name": "stdout",
     "output_type": "stream",
     "text": [
      "epoch: 1 step: 1, loss is 29.33513832092285\n",
      "epoch: 1 step: 2, loss is 37.46299743652344\n",
      "epoch: 1 step: 3, loss is 39.28642272949219\n",
      "epoch: 1 step: 4, loss is 41.847991943359375\n",
      "epoch: 1 step: 5, loss is 16.808752059936523\n",
      "epoch: 1 step: 6, loss is 42.482215881347656\n",
      "epoch: 1 step: 7, loss is 29.145341873168945\n",
      "epoch: 1 step: 8, loss is 33.21084213256836\n",
      "epoch: 1 step: 9, loss is 30.48308563232422\n",
      "epoch: 1 step: 10, loss is 27.18667221069336\n",
      "epoch: 1 step: 11, loss is 41.479427337646484\n",
      "epoch: 1 step: 12, loss is 50.3975715637207\n",
      "epoch: 1 step: 13, loss is 17.694313049316406\n",
      "epoch: 1 step: 14, loss is 35.32475280761719\n",
      "epoch: 1 step: 15, loss is 51.93513870239258\n",
      "epoch: 1 step: 16, loss is 18.89722442626953\n",
      "epoch: 1 step: 17, loss is 30.43497657775879\n",
      "epoch: 1 step: 18, loss is 25.525924682617188\n",
      "epoch: 1 step: 19, loss is 30.582584381103516\n",
      "epoch: 1 step: 20, loss is 12.64999771118164\n",
      "epoch: 1 step: 21, loss is 31.38129425048828\n",
      "epoch: 1 step: 22, loss is 19.548561096191406\n",
      "epoch: 1 step: 23, loss is 13.861833572387695\n",
      "epoch: 1 step: 24, loss is 21.32258415222168\n",
      "epoch: 1 step: 25, loss is 17.00946807861328\n",
      "epoch: 1 step: 26, loss is 13.774389266967773\n",
      "epoch: 1 step: 27, loss is 33.077484130859375\n",
      "epoch: 1 step: 28, loss is 13.877609252929688\n",
      "epoch: 1 step: 29, loss is 16.375003814697266\n",
      "epoch: 1 step: 30, loss is 12.307830810546875\n",
      "epoch: 1 step: 31, loss is 12.469795227050781\n",
      "epoch: 1 step: 32, loss is 15.963699340820312\n",
      "epoch: 1 step: 33, loss is 19.221111297607422\n",
      "epoch: 1 step: 34, loss is 17.515111923217773\n",
      "epoch: 1 step: 35, loss is 10.54263973236084\n",
      "epoch: 1 step: 36, loss is 16.58633041381836\n",
      "epoch: 1 step: 37, loss is 14.373174667358398\n",
      "epoch: 1 step: 38, loss is 14.532005310058594\n",
      "epoch: 1 step: 39, loss is 7.7050981521606445\n",
      "epoch: 1 step: 40, loss is 13.156425476074219\n",
      "epoch: 1 step: 41, loss is 32.52201461791992\n",
      "epoch: 1 step: 42, loss is 19.205060958862305\n",
      "epoch: 1 step: 43, loss is 26.562786102294922\n",
      "epoch: 1 step: 44, loss is 29.958065032958984\n",
      "epoch: 1 step: 45, loss is 16.398605346679688\n",
      "epoch: 1 step: 46, loss is 23.833070755004883\n",
      "epoch: 1 step: 47, loss is 13.132551193237305\n",
      "epoch: 1 step: 48, loss is 13.920884132385254\n",
      "epoch: 1 step: 49, loss is 19.103349685668945\n",
      "epoch: 1 step: 50, loss is 15.145254135131836\n",
      "epoch: 1 step: 51, loss is 16.269298553466797\n",
      "epoch: 1 step: 52, loss is 10.03077220916748\n",
      "epoch: 1 step: 53, loss is 16.784996032714844\n",
      "epoch: 1 step: 54, loss is 9.908897399902344\n",
      "epoch: 1 step: 55, loss is 15.838116645812988\n",
      "epoch: 1 step: 56, loss is 13.97175407409668\n",
      "epoch: 1 step: 57, loss is 15.69272232055664\n",
      "epoch: 1 step: 58, loss is 14.330774307250977\n",
      "epoch: 1 step: 59, loss is 13.212286949157715\n",
      "epoch: 1 step: 60, loss is 9.237480163574219\n",
      "epoch: 1 step: 61, loss is 14.53261947631836\n",
      "epoch: 1 step: 62, loss is 17.80704689025879\n",
      "epoch: 1 step: 63, loss is 4.714548110961914\n",
      "epoch: 1 step: 64, loss is 3.766012191772461\n",
      "epoch: 1 step: 65, loss is 8.403373718261719\n",
      "epoch: 1 step: 66, loss is 8.255990982055664\n",
      "epoch: 1 step: 67, loss is 4.484724521636963\n",
      "epoch: 1 step: 68, loss is 5.450994968414307\n",
      "epoch: 1 step: 69, loss is 7.779852867126465\n",
      "epoch: 1 step: 70, loss is 4.426551818847656\n",
      "epoch: 1 step: 71, loss is 12.461235046386719\n",
      "epoch: 1 step: 72, loss is 14.55686092376709\n",
      "epoch: 1 step: 73, loss is 0.805408239364624\n",
      "epoch: 1 step: 74, loss is 7.416049480438232\n",
      "epoch: 1 step: 75, loss is 8.820674896240234\n",
      "epoch: 1 step: 76, loss is 4.946131229400635\n",
      "epoch: 1 step: 77, loss is 6.882390975952148\n",
      "epoch: 1 step: 78, loss is 8.535741806030273\n",
      "epoch: 1 step: 79, loss is 7.40862512588501\n",
      "epoch: 1 step: 80, loss is 2.4266157150268555\n",
      "epoch: 1 step: 81, loss is 10.088254928588867\n",
      "epoch: 1 step: 82, loss is 6.668605804443359\n",
      "epoch: 1 step: 83, loss is 5.525445938110352\n",
      "epoch: 1 step: 84, loss is 3.769009828567505\n",
      "epoch: 1 step: 85, loss is 5.503881931304932\n",
      "epoch: 1 step: 86, loss is 9.117692947387695\n",
      "epoch: 1 step: 87, loss is 5.381252288818359\n",
      "epoch: 1 step: 88, loss is 6.088679313659668\n",
      "epoch: 1 step: 89, loss is 6.242405891418457\n",
      "epoch: 1 step: 90, loss is 7.096940040588379\n",
      "epoch: 1 step: 91, loss is 9.609804153442383\n",
      "epoch: 1 step: 92, loss is 7.569792747497559\n",
      "epoch: 1 step: 93, loss is 4.220124244689941\n",
      "epoch: 1 step: 94, loss is 6.169042587280273\n",
      "epoch: 1 step: 95, loss is 3.3124465942382812\n",
      "epoch: 1 step: 96, loss is 7.952907085418701\n",
      "epoch: 1 step: 97, loss is 8.146528244018555\n",
      "epoch: 1 step: 98, loss is 10.936038970947266\n",
      "epoch: 1 step: 99, loss is 4.389820098876953\n",
      "epoch: 1 step: 100, loss is 6.11431884765625\n",
      "epoch: 2 step: 1, loss is 4.24835729598999\n",
      "epoch: 2 step: 2, loss is 6.954296112060547\n",
      "epoch: 2 step: 3, loss is 9.254989624023438\n",
      "epoch: 2 step: 4, loss is 6.720329284667969\n",
      "epoch: 2 step: 5, loss is 4.685884475708008\n",
      "epoch: 2 step: 6, loss is 5.312098026275635\n",
      "epoch: 2 step: 7, loss is 3.214857578277588\n",
      "epoch: 2 step: 8, loss is 4.708015441894531\n",
      "epoch: 2 step: 9, loss is 7.731549263000488\n",
      "epoch: 2 step: 10, loss is 2.787165641784668\n",
      "epoch: 2 step: 11, loss is 2.2660071849823\n",
      "epoch: 2 step: 12, loss is 2.5034518241882324\n",
      "epoch: 2 step: 13, loss is 3.5088019371032715\n",
      "epoch: 2 step: 14, loss is 5.122994422912598\n",
      "epoch: 2 step: 15, loss is 4.862705707550049\n",
      "epoch: 2 step: 16, loss is 3.035531520843506\n",
      "epoch: 2 step: 17, loss is 3.1029810905456543\n",
      "epoch: 2 step: 18, loss is 5.455187797546387\n",
      "epoch: 2 step: 19, loss is 1.901469111442566\n",
      "epoch: 2 step: 20, loss is 4.915130615234375\n",
      "epoch: 2 step: 21, loss is 2.6049745082855225\n",
      "epoch: 2 step: 22, loss is 2.415421724319458\n",
      "epoch: 2 step: 23, loss is 1.0339387655258179\n",
      "epoch: 2 step: 24, loss is 2.31264591217041\n",
      "epoch: 2 step: 25, loss is 0.879693865776062\n",
      "epoch: 2 step: 26, loss is 1.8836594820022583\n",
      "epoch: 2 step: 27, loss is 2.77068829536438\n",
      "epoch: 2 step: 28, loss is 4.186056613922119\n",
      "epoch: 2 step: 29, loss is 2.369800329208374\n",
      "epoch: 2 step: 30, loss is 2.2341272830963135\n",
      "epoch: 2 step: 31, loss is 2.423903226852417\n",
      "epoch: 2 step: 32, loss is 2.3111841678619385\n",
      "epoch: 2 step: 33, loss is 1.8182461261749268\n",
      "epoch: 2 step: 34, loss is 4.634824752807617\n",
      "epoch: 2 step: 35, loss is 2.4480247497558594\n",
      "epoch: 2 step: 36, loss is 1.6808935403823853\n",
      "epoch: 2 step: 37, loss is 2.1961750984191895\n",
      "epoch: 2 step: 38, loss is 1.9911036491394043\n",
      "epoch: 2 step: 39, loss is 2.2821977138519287\n",
      "epoch: 2 step: 40, loss is 3.2957475185394287\n",
      "epoch: 2 step: 41, loss is 2.353273630142212\n",
      "epoch: 2 step: 42, loss is 1.7115195989608765\n",
      "epoch: 2 step: 43, loss is 1.6333167552947998\n",
      "epoch: 2 step: 44, loss is 1.0838332176208496\n",
      "epoch: 2 step: 45, loss is 1.5041457414627075\n",
      "epoch: 2 step: 46, loss is 1.4659168720245361\n",
      "epoch: 2 step: 47, loss is 1.9388890266418457\n",
      "epoch: 2 step: 48, loss is 2.3239495754241943\n",
      "epoch: 2 step: 49, loss is 1.3613390922546387\n",
      "epoch: 2 step: 50, loss is 1.0556316375732422\n",
      "epoch: 2 step: 51, loss is 0.8716793060302734\n",
      "epoch: 2 step: 52, loss is 1.1123721599578857\n",
      "epoch: 2 step: 53, loss is 1.1657922267913818\n",
      "epoch: 2 step: 54, loss is 1.0019348859786987\n",
      "epoch: 2 step: 55, loss is 1.7948863506317139\n",
      "epoch: 2 step: 56, loss is 0.9553043842315674\n",
      "epoch: 2 step: 57, loss is 0.6728433966636658\n",
      "epoch: 2 step: 58, loss is 0.8953102827072144\n",
      "epoch: 2 step: 59, loss is 0.8105589151382446\n",
      "epoch: 2 step: 60, loss is 0.9845868945121765\n",
      "epoch: 2 step: 61, loss is 1.4264308214187622\n",
      "epoch: 2 step: 62, loss is 0.939066469669342\n",
      "epoch: 2 step: 63, loss is 1.0670902729034424\n",
      "epoch: 2 step: 64, loss is 0.6336681842803955\n",
      "epoch: 2 step: 65, loss is 0.8376425504684448\n",
      "epoch: 2 step: 66, loss is 0.39321818947792053\n",
      "epoch: 2 step: 67, loss is 0.8112329840660095\n",
      "epoch: 2 step: 68, loss is 0.4563824534416199\n",
      "epoch: 2 step: 69, loss is 1.1441807746887207\n",
      "epoch: 2 step: 70, loss is 1.497287392616272\n",
      "epoch: 2 step: 71, loss is 0.5989107489585876\n",
      "epoch: 2 step: 72, loss is 0.7809985876083374\n",
      "epoch: 2 step: 73, loss is 0.5138855576515198\n",
      "epoch: 2 step: 74, loss is 0.5772721767425537\n",
      "epoch: 2 step: 75, loss is 0.3831925392150879\n",
      "epoch: 2 step: 76, loss is 0.5262008905410767\n",
      "epoch: 2 step: 77, loss is 1.1277823448181152\n",
      "epoch: 2 step: 78, loss is 0.46366259455680847\n",
      "epoch: 2 step: 79, loss is 0.3736445903778076\n",
      "epoch: 2 step: 80, loss is 0.3862391710281372\n",
      "epoch: 2 step: 81, loss is 0.7016186714172363\n",
      "epoch: 2 step: 82, loss is 0.7563797831535339\n",
      "epoch: 2 step: 83, loss is 0.5322238206863403\n",
      "epoch: 2 step: 84, loss is 0.5376900434494019\n",
      "epoch: 2 step: 85, loss is 0.791725754737854\n",
      "epoch: 2 step: 86, loss is 0.22769233584403992\n",
      "epoch: 2 step: 87, loss is 0.18572819232940674\n",
      "epoch: 2 step: 88, loss is 0.36855876445770264\n",
      "epoch: 2 step: 89, loss is 0.8092793226242065\n",
      "epoch: 2 step: 90, loss is 0.6981639862060547\n",
      "epoch: 2 step: 91, loss is 0.5612894296646118\n",
      "epoch: 2 step: 92, loss is 0.38392332196235657\n",
      "epoch: 2 step: 93, loss is 0.2640663981437683\n",
      "epoch: 2 step: 94, loss is 0.21307089924812317\n",
      "epoch: 2 step: 95, loss is 0.445789098739624\n",
      "epoch: 2 step: 96, loss is 0.4479224979877472\n",
      "epoch: 2 step: 97, loss is 0.5040189027786255\n",
      "epoch: 2 step: 98, loss is 0.41459375619888306\n",
      "epoch: 2 step: 99, loss is 0.24770595133304596\n",
      "epoch: 2 step: 100, loss is 0.45965832471847534\n",
      "epoch: 3 step: 1, loss is 0.2981744110584259\n",
      "epoch: 3 step: 2, loss is 0.2553741931915283\n",
      "epoch: 3 step: 3, loss is 0.4366358816623688\n",
      "epoch: 3 step: 4, loss is 0.3082890212535858\n",
      "epoch: 3 step: 5, loss is 0.379729688167572\n",
      "epoch: 3 step: 6, loss is 0.3965895175933838\n",
      "epoch: 3 step: 7, loss is 0.2743699848651886\n",
      "epoch: 3 step: 8, loss is 0.1107001006603241\n",
      "epoch: 3 step: 9, loss is 0.1342698186635971\n",
      "epoch: 3 step: 10, loss is 0.15186041593551636\n",
      "epoch: 3 step: 11, loss is 0.17861773073673248\n",
      "epoch: 3 step: 12, loss is 0.23659630119800568\n",
      "epoch: 3 step: 13, loss is 0.19689032435417175\n",
      "epoch: 3 step: 14, loss is 0.195046529173851\n",
      "epoch: 3 step: 15, loss is 0.155483677983284\n",
      "epoch: 3 step: 16, loss is 0.13549888134002686\n",
      "epoch: 3 step: 17, loss is 0.2813482880592346\n",
      "epoch: 3 step: 18, loss is 0.21725647151470184\n",
      "epoch: 3 step: 19, loss is 0.19826796650886536\n",
      "epoch: 3 step: 20, loss is 0.17038053274154663\n",
      "epoch: 3 step: 21, loss is 0.26234978437423706\n",
      "epoch: 3 step: 22, loss is 0.2266811728477478\n",
      "epoch: 3 step: 23, loss is 0.264788955450058\n",
      "epoch: 3 step: 24, loss is 0.212098628282547\n",
      "epoch: 3 step: 25, loss is 0.14173269271850586\n",
      "epoch: 3 step: 26, loss is 0.10951755195856094\n",
      "epoch: 3 step: 27, loss is 0.30133339762687683\n",
      "epoch: 3 step: 28, loss is 0.07832592725753784\n",
      "epoch: 3 step: 29, loss is 0.21821048855781555\n",
      "epoch: 3 step: 30, loss is 0.19798272848129272\n",
      "epoch: 3 step: 31, loss is 0.20994475483894348\n",
      "epoch: 3 step: 32, loss is 0.1037198007106781\n",
      "epoch: 3 step: 33, loss is 0.1406460404396057\n",
      "epoch: 3 step: 34, loss is 0.2282170206308365\n",
      "epoch: 3 step: 35, loss is 0.049504008144140244\n",
      "epoch: 3 step: 36, loss is 0.04857566952705383\n",
      "epoch: 3 step: 37, loss is 0.07363783568143845\n",
      "epoch: 3 step: 38, loss is 0.08067646622657776\n",
      "epoch: 3 step: 39, loss is 0.14994938671588898\n",
      "epoch: 3 step: 40, loss is 0.10371281206607819\n",
      "epoch: 3 step: 41, loss is 0.12310857325792313\n",
      "epoch: 3 step: 42, loss is 0.09709793329238892\n",
      "epoch: 3 step: 43, loss is 0.05064721032977104\n",
      "epoch: 3 step: 44, loss is 0.10873649269342422\n",
      "epoch: 3 step: 45, loss is 0.06113532558083534\n",
      "epoch: 3 step: 46, loss is 0.049765847623348236\n",
      "epoch: 3 step: 47, loss is 0.08478738367557526\n",
      "epoch: 3 step: 48, loss is 0.09720957279205322\n",
      "epoch: 3 step: 49, loss is 0.11222808063030243\n",
      "epoch: 3 step: 50, loss is 0.06373581290245056\n",
      "epoch: 3 step: 51, loss is 0.08714865893125534\n",
      "epoch: 3 step: 52, loss is 0.024605438113212585\n",
      "epoch: 3 step: 53, loss is 0.04989315941929817\n",
      "epoch: 3 step: 54, loss is 0.05115659534931183\n",
      "epoch: 3 step: 55, loss is 0.044933900237083435\n",
      "epoch: 3 step: 56, loss is 0.0461658351123333\n",
      "epoch: 3 step: 57, loss is 0.06937642395496368\n",
      "epoch: 3 step: 58, loss is 0.07388422638177872\n",
      "epoch: 3 step: 59, loss is 0.09622713178396225\n",
      "epoch: 3 step: 60, loss is 0.07102786004543304\n",
      "epoch: 3 step: 61, loss is 0.05148264765739441\n",
      "epoch: 3 step: 62, loss is 0.02663017064332962\n",
      "epoch: 3 step: 63, loss is 0.02827340178191662\n",
      "epoch: 3 step: 64, loss is 0.050384145230054855\n",
      "epoch: 3 step: 65, loss is 0.06149779260158539\n",
      "epoch: 3 step: 66, loss is 0.03594039008021355\n",
      "epoch: 3 step: 67, loss is 0.04720902070403099\n",
      "epoch: 3 step: 68, loss is 0.025353528559207916\n",
      "epoch: 3 step: 69, loss is 0.03417685255408287\n",
      "epoch: 3 step: 70, loss is 0.029196040704846382\n",
      "epoch: 3 step: 71, loss is 0.03480830416083336\n",
      "epoch: 3 step: 72, loss is 0.034789107739925385\n",
      "epoch: 3 step: 73, loss is 0.027915263548493385\n",
      "epoch: 3 step: 74, loss is 0.041326720267534256\n",
      "epoch: 3 step: 75, loss is 0.011891552247107029\n",
      "epoch: 3 step: 76, loss is 0.03368235379457474\n",
      "epoch: 3 step: 77, loss is 0.04417184367775917\n",
      "epoch: 3 step: 78, loss is 0.03417826443910599\n",
      "epoch: 3 step: 79, loss is 0.023118838667869568\n",
      "epoch: 3 step: 80, loss is 0.020787658169865608\n",
      "epoch: 3 step: 81, loss is 0.023024413734674454\n",
      "epoch: 3 step: 82, loss is 0.04077079892158508\n",
      "epoch: 3 step: 83, loss is 0.03122526779770851\n",
      "epoch: 3 step: 84, loss is 0.010885979980230331\n",
      "epoch: 3 step: 85, loss is 0.011435924097895622\n",
      "epoch: 3 step: 86, loss is 0.028659330680966377\n",
      "epoch: 3 step: 87, loss is 0.01705290749669075\n",
      "epoch: 3 step: 88, loss is 0.03209582716226578\n",
      "epoch: 3 step: 89, loss is 0.023234937340021133\n",
      "epoch: 3 step: 90, loss is 0.02477288991212845\n",
      "epoch: 3 step: 91, loss is 0.019068893045186996\n",
      "epoch: 3 step: 92, loss is 0.02086888998746872\n",
      "epoch: 3 step: 93, loss is 0.020628206431865692\n",
      "epoch: 3 step: 94, loss is 0.011444364674389362\n",
      "epoch: 3 step: 95, loss is 0.011989878490567207\n",
      "epoch: 3 step: 96, loss is 0.013768801465630531\n",
      "epoch: 3 step: 97, loss is 0.012814630754292011\n",
      "epoch: 3 step: 98, loss is 0.025742044672369957\n",
      "epoch: 3 step: 99, loss is 0.009839225560426712\n",
      "epoch: 3 step: 100, loss is 0.012553527019917965\n"
     ]
    }
   ],
   "source": [
    "# 模型训练或推理的高阶接口。Model 会根据用户传入的参数封装可训练或推理的实例\n",
    "model = Model(net, loss_fn=loss, optimizer=optim)  \n",
    "# 模型训练接口。训练场景下，LossMonitor监控训练的loss；边训练边推理场景下，监控训练的loss和推理的metrics。如果loss是NAN或INF，则终止训练\n",
    "model.train(num_epochs, dataset, callbacks=[LossMonitor()])  "
   ]
  },
  {
   "cell_type": "markdown",
   "metadata": {},
   "source": [
    "### 7、模型预测\n",
    "训练3个epoch后输出w和b的估计误差，比较真实参数和通过训练学到的参数来评估训练的成功程度。"
   ]
  },
  {
   "cell_type": "code",
   "execution_count": 10,
   "metadata": {
    "origin_pos": 35,
    "tab": [
     "pytorch"
    ]
   },
   "outputs": [
    {
     "name": "stdout",
     "output_type": "stream",
     "text": [
      "w的估计误差: [Tensor(shape=[], dtype=Float32, value= -0.0121365)\n",
      " Tensor(shape=[], dtype=Float32, value= -0.0563698)]\n",
      "b的估计误差: [Tensor(shape=[], dtype=Float32, value= 0.0883765)]\n"
     ]
    }
   ],
   "source": [
    "# w的真实值和训练值之差\n",
    "print(f'w的估计误差: {true_w - net.trainable_params()[0].reshape(true_w.shape)}')  \n",
    "# b的真实值和训练值之差\n",
    "print(f'b的估计误差: {true_b - net.trainable_params()[1]}')                        "
   ]
  }
 ],
 "metadata": {
  "kernelspec": {
   "display_name": "MindSpore",
   "language": "python",
   "name": "mindspore"
  },
  "language_info": {
   "codemirror_mode": {
    "name": "ipython",
    "version": 3
   },
   "file_extension": ".py",
   "mimetype": "text/x-python",
   "name": "python",
   "nbconvert_exporter": "python",
   "pygments_lexer": "ipython3",
   "version": "3.7.10"
  }
 },
 "nbformat": 4,
 "nbformat_minor": 4
}
