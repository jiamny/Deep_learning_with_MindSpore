{
 "cells": [
  {
   "cell_type": "markdown",
   "metadata": {},
   "source": [
    "# 8. 基于MindSpore构造激活函数\n",
    "本实验主要介绍使用MindSpore实现神经网络中的ReLU激活函数，使用自定义数据进行测试。"
   ]
  },
  {
   "cell_type": "markdown",
   "metadata": {},
   "source": [
    "# 1. 实验目的\n",
    "- 了解激活函数在人工神经网络中的作用。\n",
    "- 掌握如何使用MindSpore构造ReLU激活函数，并使用自定义数据进行测试。"
   ]
  },
  {
   "cell_type": "markdown",
   "metadata": {},
   "source": [
    "# 2. ReLU激活函数知识点介绍\n",
    "激活函数是在人工神经网络的神经元上运行的函数，负责将神经元的输入应映射到输出端。  \n",
    "激活函数对于神经网络模型去学习、理解复杂和非线性的函数具有十分重要的意义，它们将非线性特性引入到网络中。如图所示，在神经元中，输入（inputs）通过加权、求和后，还被作用在一个函数上，这个函数就是激活函数。  \n",
    "![](Figures/fig_001.png)  \n",
    "如果不使用激活函数，神经网络中每一层的输入都是上一层输出的线性函数，无论神经网络有多少层，输出都是输入的线性组合，这种情况网络会退化为最原始的感知机。使用非线性激活函数是为了增加神经网络模型的非线性因素，使网络更加强大，可以学习更加复杂的事物。  \n",
    "整流线性单元（Rectified linear unit, ReLU）是现代神经网络中最常用的激活函数，是大多数前馈神经网络默认使用的激活函数，函数表达式如下：   \n",
    "$$\n",
    "f(x) =\\max(0,x)\n",
    "$$  \n",
    "函数图像：  \n",
    "![](Figures/fig_002.png)"
   ]
  },
  {
   "cell_type": "markdown",
   "metadata": {},
   "source": [
    "在动手进行实践之前，需要注意以下几点：\n",
    "* 确保实验环境正确安装，包括安装MindSpore。安装过程：首先登录[MindSpore官网安装页面](https://www.mindspore.cn/install)，根据安装指南下载安装包及查询相关文档。同时，官网环境安装也可以按下表说明找到对应环境搭建文档链接，根据环境搭建手册配置对应的实验环境。\n",
    "* 推荐使用交互式的计算环境Jupyter Notebook，其交互性强，易于可视化，适合频繁修改的数据分析实验环境。\n",
    "* 实验也可以在华为云一站式的AI开发平台ModelArts上完成。\n",
    "* 推荐实验环境：MindSpore版本=MindSpore 2.0；Python环境=3.7\n",
    "\n",
    "\n",
    "|  硬件平台 |  操作系统  | 软件环境 | 开发环境 | 环境搭建链接 |\n",
    "| :-----:| :----: | :----: |:----:   |:----:   |\n",
    "| CPU | Windows-x64 | MindSpore2.0 Python3.7.5 | JupyterNotebook |[MindSpore环境搭建实验手册第二章2.1节和第三章3.1节](./MindSpore环境搭建实验手册.docx)|\n",
    "| GPU CUDA 10.1|Linux-x86_64| MindSpore2.0 Python3.7.5 | JupyterNotebook |[MindSpore环境搭建实验手册第二章2.2节和第三章3.1节](./MindSpore环境搭建实验手册.docx)|\n",
    "| Ascend 910  | Linux-x86_64| MindSpore2.0 Python3.7.5 | JupyterNotebook |[MindSpore环境搭建实验手册第四章](./MindSpore环境搭建实验手册.docx)|"
   ]
  },
  {
   "cell_type": "markdown",
   "metadata": {},
   "source": [
    "# 4. 数据处理\n",
    "## 4.1 数据准备\n",
    "自定义张量（Tensor）数据进行测试。  \n",
    "Tensor本质上是一个多维数组（multidimensional array），使用  Tensor的目的是能够创造更高维度的矩阵、向量。  \n",
    "本实验中定义的张量数据 Tensor 格式如下所示：\n",
    "$$\n",
    "[<Array_1>,<Array_2>,\\cdots, <Array_n>]\n",
    "$$  \n",
    "测试数据定义为： \n",
    "  \n",
    "`[[ 1.0,  2.0, -4.0,  1.3], [-1.3,  2.0,  1.0, -6.0]]`\n",
    "## 4.2 数据加载\n",
    "代码："
   ]
  },
  {
   "cell_type": "code",
   "execution_count": 9,
   "metadata": {},
   "outputs": [],
   "source": [
    "# 引入mindspore\n",
    "import mindspore as ms\n",
    "# 引入神经网络模块\n",
    "from mindspore.nn import Cell\n",
    "# 定义张量数据\n",
    "tensor = ms.Tensor([[ 1.0,  2.0, -4.0,  1.3],\n",
    "                    [-1.3,  2.0,  1.0, -6.0]], dtype=ms.float32)"
   ]
  },
  {
   "cell_type": "markdown",
   "metadata": {},
   "source": [
    "# 5. 模型构建"
   ]
  },
  {
   "cell_type": "code",
   "execution_count": 10,
   "metadata": {},
   "outputs": [],
   "source": [
    "# 继承Cell类，构造ReLU函数\n",
    "class My_Relu(Cell):\n",
    "    def __init__(self):\n",
    "        super(My_Relu, self).__init__()\n",
    "    def construct(self, x):\n",
    "        x[x<0] = 0\n",
    "        return x"
   ]
  },
  {
   "cell_type": "markdown",
   "metadata": {},
   "source": [
    "# 6. 模型测试\n",
    "使用自定义数据对ReLU函数进行测试，观察函数实现是否正确。"
   ]
  },
  {
   "cell_type": "code",
   "execution_count": 11,
   "metadata": {},
   "outputs": [
    {
     "data": {
      "text/plain": [
       "Tensor(shape=[2, 4], dtype=Float32, value=\n",
       "[[1.00000000e+000, 2.00000000e+000, 0.00000000e+000, 1.29999995e+000],\n",
       " [0.00000000e+000, 2.00000000e+000, 6.00000000e+000, 0.00000000e+000]])"
      ]
     },
     "execution_count": 11,
     "metadata": {},
     "output_type": "execute_result"
    }
   ],
   "source": [
    "# 实例化ReLU函数\n",
    "my_relu = My_Relu()\n",
    "# 输出\n",
    "output = my_relu(tensor)\n",
    "# 打印输出\n",
    "output"
   ]
  }
 ],
 "metadata": {
  "kernelspec": {
   "display_name": "Python 3 (ipykernel)",
   "language": "python",
   "name": "python3"
  },
  "language_info": {
   "codemirror_mode": {
    "name": "ipython",
    "version": 3
   },
   "file_extension": ".py",
   "mimetype": "text/x-python",
   "name": "python",
   "nbconvert_exporter": "python",
   "pygments_lexer": "ipython3",
   "version": "3.9.13"
  },
  "vscode": {
   "interpreter": {
    "hash": "39917349512f3af115c4d672743912acd23ab252e10e9617f8cf2e6df7afac29"
   }
  }
 },
 "nbformat": 4,
 "nbformat_minor": 4
}
